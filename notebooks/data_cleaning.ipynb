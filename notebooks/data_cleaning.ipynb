{
 "metadata": {
  "language_info": {
   "codemirror_mode": {
    "name": "ipython",
    "version": 3
   },
   "file_extension": ".py",
   "mimetype": "text/x-python",
   "name": "python",
   "nbconvert_exporter": "python",
   "pygments_lexer": "ipython3",
   "version": "3.6.9-final"
  },
  "orig_nbformat": 2,
  "kernelspec": {
   "name": "flatiron",
   "display_name": "flatiron"
  }
 },
 "nbformat": 4,
 "nbformat_minor": 2,
 "cells": [
  {
   "cell_type": "markdown",
   "metadata": {},
   "source": [
    "# Data Cleaning Notebook"
   ]
  },
  {
   "cell_type": "code",
   "execution_count": 110,
   "metadata": {},
   "outputs": [],
   "source": [
    "# Import the required libraries\n",
    "import pandas as pd\n",
    "import numpy as np\n",
    "\n",
    "# set up pandas to display floats in a more human friendly way\n",
    "pd.options.display.float_format = '{:,.2f}'.format"
   ]
  },
  {
   "cell_type": "markdown",
   "metadata": {},
   "source": [
    "### Original training data files downloaded from data source were split between values and labels. \n",
    "#### Step 1: Conduct data cleaning USING FUNCTIONS on the Training and Test Files\n",
    "#### Step 2: Combine the Training values and labels into a single file for use in model training."
   ]
  },
  {
   "cell_type": "code",
   "execution_count": 111,
   "metadata": {},
   "outputs": [
    {
     "output_type": "execute_result",
     "data": {
      "text/plain": [
       "      id  amount_tsh date_recorded        funder  gps_height     installer  \\\n",
       "0  69572    6,000.00    2011-03-14         Roman        1390         Roman   \n",
       "1   8776        0.00    2013-03-06       Grumeti        1399       GRUMETI   \n",
       "2  34310       25.00    2013-02-25  Lottery Club         686  World vision   \n",
       "\n",
       "   longitude  latitude     wpt_name  num_private  ... payment_type  \\\n",
       "0      34.94     -9.86         none            0  ...     annually   \n",
       "1      34.70     -2.15     Zahanati            0  ...    never pay   \n",
       "2      37.46     -3.82  Kwa Mahundi            0  ...   per bucket   \n",
       "\n",
       "  water_quality quality_group      quantity  quantity_group  \\\n",
       "0          soft          good        enough          enough   \n",
       "1          soft          good  insufficient    insufficient   \n",
       "2          soft          good        enough          enough   \n",
       "\n",
       "                 source           source_type  source_class  \\\n",
       "0                spring                spring   groundwater   \n",
       "1  rainwater harvesting  rainwater harvesting       surface   \n",
       "2                   dam                   dam       surface   \n",
       "\n",
       "               waterpoint_type waterpoint_type_group  \n",
       "0           communal standpipe    communal standpipe  \n",
       "1           communal standpipe    communal standpipe  \n",
       "2  communal standpipe multiple    communal standpipe  \n",
       "\n",
       "[3 rows x 40 columns]"
      ],
      "text/html": "<div>\n<style scoped>\n    .dataframe tbody tr th:only-of-type {\n        vertical-align: middle;\n    }\n\n    .dataframe tbody tr th {\n        vertical-align: top;\n    }\n\n    .dataframe thead th {\n        text-align: right;\n    }\n</style>\n<table border=\"1\" class=\"dataframe\">\n  <thead>\n    <tr style=\"text-align: right;\">\n      <th></th>\n      <th>id</th>\n      <th>amount_tsh</th>\n      <th>date_recorded</th>\n      <th>funder</th>\n      <th>gps_height</th>\n      <th>installer</th>\n      <th>longitude</th>\n      <th>latitude</th>\n      <th>wpt_name</th>\n      <th>num_private</th>\n      <th>...</th>\n      <th>payment_type</th>\n      <th>water_quality</th>\n      <th>quality_group</th>\n      <th>quantity</th>\n      <th>quantity_group</th>\n      <th>source</th>\n      <th>source_type</th>\n      <th>source_class</th>\n      <th>waterpoint_type</th>\n      <th>waterpoint_type_group</th>\n    </tr>\n  </thead>\n  <tbody>\n    <tr>\n      <th>0</th>\n      <td>69572</td>\n      <td>6,000.00</td>\n      <td>2011-03-14</td>\n      <td>Roman</td>\n      <td>1390</td>\n      <td>Roman</td>\n      <td>34.94</td>\n      <td>-9.86</td>\n      <td>none</td>\n      <td>0</td>\n      <td>...</td>\n      <td>annually</td>\n      <td>soft</td>\n      <td>good</td>\n      <td>enough</td>\n      <td>enough</td>\n      <td>spring</td>\n      <td>spring</td>\n      <td>groundwater</td>\n      <td>communal standpipe</td>\n      <td>communal standpipe</td>\n    </tr>\n    <tr>\n      <th>1</th>\n      <td>8776</td>\n      <td>0.00</td>\n      <td>2013-03-06</td>\n      <td>Grumeti</td>\n      <td>1399</td>\n      <td>GRUMETI</td>\n      <td>34.70</td>\n      <td>-2.15</td>\n      <td>Zahanati</td>\n      <td>0</td>\n      <td>...</td>\n      <td>never pay</td>\n      <td>soft</td>\n      <td>good</td>\n      <td>insufficient</td>\n      <td>insufficient</td>\n      <td>rainwater harvesting</td>\n      <td>rainwater harvesting</td>\n      <td>surface</td>\n      <td>communal standpipe</td>\n      <td>communal standpipe</td>\n    </tr>\n    <tr>\n      <th>2</th>\n      <td>34310</td>\n      <td>25.00</td>\n      <td>2013-02-25</td>\n      <td>Lottery Club</td>\n      <td>686</td>\n      <td>World vision</td>\n      <td>37.46</td>\n      <td>-3.82</td>\n      <td>Kwa Mahundi</td>\n      <td>0</td>\n      <td>...</td>\n      <td>per bucket</td>\n      <td>soft</td>\n      <td>good</td>\n      <td>enough</td>\n      <td>enough</td>\n      <td>dam</td>\n      <td>dam</td>\n      <td>surface</td>\n      <td>communal standpipe multiple</td>\n      <td>communal standpipe</td>\n    </tr>\n  </tbody>\n</table>\n<p>3 rows × 40 columns</p>\n</div>"
     },
     "metadata": {},
     "execution_count": 111
    }
   ],
   "source": [
    "# TRAINING DATA\n",
    "train_values_raw = pd.read_csv('../data/original/TrainingSetValues/4910797b-ee55-40a7-8668-10efd5c1b960.csv')\n",
    "train_values_raw.head(3)"
   ]
  },
  {
   "cell_type": "code",
   "execution_count": 112,
   "metadata": {},
   "outputs": [
    {
     "output_type": "execute_result",
     "data": {
      "text/plain": [
       "      id  amount_tsh date_recorded                  funder  gps_height  \\\n",
       "0  50785        0.00    2013-02-04                    Dmdd        1996   \n",
       "1  51630        0.00    2013-02-04  Government Of Tanzania        1569   \n",
       "2  17168        0.00    2013-02-01                     NaN        1567   \n",
       "\n",
       "  installer  longitude  latitude                 wpt_name  num_private  ...  \\\n",
       "0      DMDD      35.29     -4.06  Dinamu Secondary School            0  ...   \n",
       "1       DWE      36.66     -3.31                  Kimnyak            0  ...   \n",
       "2       NaN      34.77     -5.00           Puma Secondary            0  ...   \n",
       "\n",
       "  payment_type water_quality quality_group      quantity  quantity_group  \\\n",
       "0    never pay          soft          good      seasonal        seasonal   \n",
       "1    never pay          soft          good  insufficient    insufficient   \n",
       "2    never pay          soft          good  insufficient    insufficient   \n",
       "\n",
       "                 source           source_type  source_class  \\\n",
       "0  rainwater harvesting  rainwater harvesting       surface   \n",
       "1                spring                spring   groundwater   \n",
       "2  rainwater harvesting  rainwater harvesting       surface   \n",
       "\n",
       "      waterpoint_type waterpoint_type_group  \n",
       "0               other                 other  \n",
       "1  communal standpipe    communal standpipe  \n",
       "2               other                 other  \n",
       "\n",
       "[3 rows x 40 columns]"
      ],
      "text/html": "<div>\n<style scoped>\n    .dataframe tbody tr th:only-of-type {\n        vertical-align: middle;\n    }\n\n    .dataframe tbody tr th {\n        vertical-align: top;\n    }\n\n    .dataframe thead th {\n        text-align: right;\n    }\n</style>\n<table border=\"1\" class=\"dataframe\">\n  <thead>\n    <tr style=\"text-align: right;\">\n      <th></th>\n      <th>id</th>\n      <th>amount_tsh</th>\n      <th>date_recorded</th>\n      <th>funder</th>\n      <th>gps_height</th>\n      <th>installer</th>\n      <th>longitude</th>\n      <th>latitude</th>\n      <th>wpt_name</th>\n      <th>num_private</th>\n      <th>...</th>\n      <th>payment_type</th>\n      <th>water_quality</th>\n      <th>quality_group</th>\n      <th>quantity</th>\n      <th>quantity_group</th>\n      <th>source</th>\n      <th>source_type</th>\n      <th>source_class</th>\n      <th>waterpoint_type</th>\n      <th>waterpoint_type_group</th>\n    </tr>\n  </thead>\n  <tbody>\n    <tr>\n      <th>0</th>\n      <td>50785</td>\n      <td>0.00</td>\n      <td>2013-02-04</td>\n      <td>Dmdd</td>\n      <td>1996</td>\n      <td>DMDD</td>\n      <td>35.29</td>\n      <td>-4.06</td>\n      <td>Dinamu Secondary School</td>\n      <td>0</td>\n      <td>...</td>\n      <td>never pay</td>\n      <td>soft</td>\n      <td>good</td>\n      <td>seasonal</td>\n      <td>seasonal</td>\n      <td>rainwater harvesting</td>\n      <td>rainwater harvesting</td>\n      <td>surface</td>\n      <td>other</td>\n      <td>other</td>\n    </tr>\n    <tr>\n      <th>1</th>\n      <td>51630</td>\n      <td>0.00</td>\n      <td>2013-02-04</td>\n      <td>Government Of Tanzania</td>\n      <td>1569</td>\n      <td>DWE</td>\n      <td>36.66</td>\n      <td>-3.31</td>\n      <td>Kimnyak</td>\n      <td>0</td>\n      <td>...</td>\n      <td>never pay</td>\n      <td>soft</td>\n      <td>good</td>\n      <td>insufficient</td>\n      <td>insufficient</td>\n      <td>spring</td>\n      <td>spring</td>\n      <td>groundwater</td>\n      <td>communal standpipe</td>\n      <td>communal standpipe</td>\n    </tr>\n    <tr>\n      <th>2</th>\n      <td>17168</td>\n      <td>0.00</td>\n      <td>2013-02-01</td>\n      <td>NaN</td>\n      <td>1567</td>\n      <td>NaN</td>\n      <td>34.77</td>\n      <td>-5.00</td>\n      <td>Puma Secondary</td>\n      <td>0</td>\n      <td>...</td>\n      <td>never pay</td>\n      <td>soft</td>\n      <td>good</td>\n      <td>insufficient</td>\n      <td>insufficient</td>\n      <td>rainwater harvesting</td>\n      <td>rainwater harvesting</td>\n      <td>surface</td>\n      <td>other</td>\n      <td>other</td>\n    </tr>\n  </tbody>\n</table>\n<p>3 rows × 40 columns</p>\n</div>"
     },
     "metadata": {},
     "execution_count": 112
    }
   ],
   "source": [
    "# TEST DATA \n",
    "test_values_raw = pd.read_csv('../data/original/TestSetValues/702ddfc5-68cd-4d1d-a0de-f5f566f76d91.csv')\n",
    "test_values_raw.head(3)"
   ]
  },
  {
   "cell_type": "markdown",
   "metadata": {},
   "source": [
    "## Column and Row Information\n",
    "* 40 columns/features in the raw data TRAINING and TEST\n",
    "* 59,400 rows in the TRAINING data\n",
    "* 14,850 rows in the TEST data"
   ]
  },
  {
   "cell_type": "code",
   "execution_count": 113,
   "metadata": {},
   "outputs": [
    {
     "output_type": "stream",
     "name": "stdout",
     "text": [
      "<class 'pandas.core.frame.DataFrame'>\nRangeIndex: 59400 entries, 0 to 59399\nData columns (total 2 columns):\n #   Column        Non-Null Count  Dtype \n---  ------        --------------  ----- \n 0   id            59400 non-null  int64 \n 1   status_group  59400 non-null  object\ndtypes: int64(1), object(1)\nmemory usage: 928.2+ KB\nNone\n"
     ]
    },
    {
     "output_type": "execute_result",
     "data": {
      "text/plain": [
       "      id status_group\n",
       "0  69572   functional\n",
       "1   8776   functional"
      ],
      "text/html": "<div>\n<style scoped>\n    .dataframe tbody tr th:only-of-type {\n        vertical-align: middle;\n    }\n\n    .dataframe tbody tr th {\n        vertical-align: top;\n    }\n\n    .dataframe thead th {\n        text-align: right;\n    }\n</style>\n<table border=\"1\" class=\"dataframe\">\n  <thead>\n    <tr style=\"text-align: right;\">\n      <th></th>\n      <th>id</th>\n      <th>status_group</th>\n    </tr>\n  </thead>\n  <tbody>\n    <tr>\n      <th>0</th>\n      <td>69572</td>\n      <td>functional</td>\n    </tr>\n    <tr>\n      <th>1</th>\n      <td>8776</td>\n      <td>functional</td>\n    </tr>\n  </tbody>\n</table>\n</div>"
     },
     "metadata": {},
     "execution_count": 113
    }
   ],
   "source": [
    "train_labels_raw = pd.read_csv('../data/original/TrainingSetLabels/0bf8bc6e-30d0-4c50-956a-603fc693d966.csv')\n",
    "print(train_labels_raw.info())\n",
    "train_labels_raw.head(2)"
   ]
  },
  {
   "cell_type": "markdown",
   "metadata": {},
   "source": [
    "## Original Data Column Descriptions\n",
    "\n",
    "* id - Numeric identifer for the waterpoint\n",
    "* amount_tsh - Total static head (amount water available to waterpoint)\n",
    "* date_recorded - The date the row was entered\n",
    "* funder - Who funded the well\n",
    "* gps_height - Altitude of the well\n",
    "* installer - Organization that installed the well\n",
    "* longitude - GPS coordinate\n",
    "* latitude - GPS coordinate\n",
    "* wpt_name - Name of the waterpoint if there is one\n",
    "* num_private -\n",
    "* basin - Geographic water basin\n",
    "* subvillage - Geographic location\n",
    "* region - Geographic location, NOTE: Hierarchy is Region > LGA > Ward\n",
    "* region_code - Geographic location (coded)\n",
    "* district_code - Geographic location (coded)\n",
    "* lga - Geographic location\n",
    "* ward - Geographic location\n",
    "* population - Population around the well\n",
    "* public_meeting - True/False\n",
    "* recorded_by - Group entering this row of data\n",
    "* scheme_management - Who operates the waterpoint\n",
    "* scheme_name - Who operates the waterpoint\n",
    "* permit - If the waterpoint is permitted\n",
    "* construction_year - Year the waterpoint was constructed\n",
    "* extraction_type - The kind of extraction the waterpoint uses\n",
    "* extraction_type_group - The kind of extraction the waterpoint uses\n",
    "* extraction_type_class - The kind of extraction the waterpoint uses\n",
    "* management - How the waterpoint is managed\n",
    "* management_group - How the waterpoint is managed\n",
    "* payment - What the water costs\n",
    "* payment_type - What the water costs\n",
    "* water_quality - The quality of the water\n",
    "* quality_group - The quality of the water\n",
    "* quantity - The quantity of water\n",
    "* quantity_group - The quantity of water\n",
    "* source - The source of the water\n",
    "* source_type - The source of the water\n",
    "* source_class - The source of the water\n",
    "* waterpoint_type - The kind of waterpoint\n",
    "* waterpoint_type_group - The kind of waterpoint\n",
    "\n"
   ]
  },
  {
   "cell_type": "markdown",
   "metadata": {},
   "source": [
    "## Data cleaning steps:\n",
    "* __Duplicate check__ \n",
    "\n",
    "* __Address Null Values (nans)__\n",
    "\n",
    "* __Address Zeros in Numeric Values__\n",
    "\n",
    "* __String type normalization__\n",
    " \n",
    "* __New column/feature creation__\n",
    "\n",
    "\n",
    "* __Note:__ No Data type conversions needed"
   ]
  },
  {
   "cell_type": "code",
   "execution_count": 114,
   "metadata": {},
   "outputs": [],
   "source": [
    "# Functions for Duplicate checks \n",
    "def has_exact_dups(df):\n",
    "    dups = df[df.duplicated()]\n",
    "    return len(dups) > 0\n",
    "\n",
    "def has_identifier_dups(df, col_name='id'):\n",
    "    num_rows = df.shape[0]\n",
    "    num_ids = len(df[col_name].unique())\n",
    "    return num_ids != num_rows"
   ]
  },
  {
   "cell_type": "code",
   "execution_count": 115,
   "metadata": {},
   "outputs": [
    {
     "output_type": "stream",
     "name": "stdout",
     "text": [
      "False\nFalse\nFalse\nFalse\n"
     ]
    }
   ],
   "source": [
    "#Dup checking\n",
    "print(has_exact_dups(train_values_raw))\n",
    "print(has_identifier_dups(train_values_raw))\n",
    "print(has_exact_dups(test_values_raw))\n",
    "print(has_identifier_dups(test_values_raw))"
   ]
  },
  {
   "cell_type": "markdown",
   "metadata": {},
   "source": [
    "### There are no exact duplicate rows nor duplicate identifers in the Training or Test datasets\n"
   ]
  },
  {
   "cell_type": "code",
   "execution_count": 116,
   "metadata": {},
   "outputs": [],
   "source": [
    "# Make a deep copy and do procesing on this dataframe moving forward\n",
    "# Deep copy has own copy of data and index.\n",
    "train_values_processed = train_values_raw.copy(deep=True)\n",
    "test_values_processed = test_values_raw.copy(deep=True)"
   ]
  },
  {
   "cell_type": "code",
   "execution_count": 117,
   "metadata": {},
   "outputs": [],
   "source": [
    "#Null handler functions\n",
    "def get_null_stats(df, col_name):\n",
    "    print(df[col_name].unique())\n",
    "    print(len(df[col_name].unique()))\n",
    "    print(df[col_name].isna().sum())\n",
    "\n",
    "\n",
    "def handle_nulls_inplace(df, cols_to_fill):\n",
    "    for item in cols_to_fill:\n",
    "        for key, value in item.items():\n",
    "            df[key].fillna(value, inplace=True)"
   ]
  },
  {
   "cell_type": "markdown",
   "metadata": {},
   "source": [
    "### Handling Null Values\n",
    "#### TRAINING and TEST columns with Null values:\n",
    "* funder : set to 'unknown' when null\n",
    "* installer : set to 'unknown' when null\n",
    "* subvillage : set to 'unknown' when null\n",
    "* public_meeting : set to True when null\n",
    "    * Training dataset: only 5055 out of 59,400 were False. 51,011 out of 59,4000 were True. \n",
    "    * Test dataset: only 1291 out of 14,850 were False, 12,738 out of 14,850 were True.\n",
    "    * As the vast majority of both Training and Test waterpoints have public_meeting of True, use True to replace all nulls.\n",
    "* scheme_management : set to 'unknown' when null\n",
    "* scheme_name : set to 'unknown' when null\n",
    "* permit : set to True when nulls\n",
    "    * Training dataset: 38,852 out of 59,4000 were True. 17,492 out of 59,4000 where False. \n",
    "    * Test dataset:  9754 out of 14,850 were True. 4359 out of 14,850 were False\n",
    "    * As the majority of both Training and Test waterpoints have public_meeting of True, use True to replace all nulls.\n"
   ]
  },
  {
   "cell_type": "code",
   "execution_count": 118,
   "metadata": {},
   "outputs": [],
   "source": [
    "cols_to_fill = [{'funder': 'unknown'}, {'installer': 'unknown'}, {'subvillage': 'unknown'}, {'public_meeting': True}, {'scheme_management': 'unknown'}, {'scheme_name': 'unknown'}, {'permit': True}]\n",
    "\n",
    "handle_nulls_inplace(train_values_processed, cols_to_fill)\n",
    "handle_nulls_inplace(test_values_processed, cols_to_fill)\n"
   ]
  },
  {
   "cell_type": "markdown",
   "metadata": {},
   "source": [
    "### Handing Zeros in Numeric Columns\n",
    "* No change needed\n",
    "    * latitude : No zeros\n",
    "    * region_code : No zeros\n",
    "* Drop data\n",
    "    * num_private : ~98 of Train,  DROP this COLUMN from Train and Test dataset\n",
    "    * longitude : ~3% of of Train and ~3% of Test, DROP these ROWS\n",
    "    * district_code : Very, very few (23 rows in Train and 4 in Test) have zeros. DROP these ROWS.\n",
    "\n",
    "* Replace Zeros\n",
    "    * construction_year : ~35% of Train and ~35% of Test - Update zeros with the Average Construction Year.\n",
    "\n",
    "* Do nothing. These 0 values seem in line with data used on the Offical Tanzanian Water Point Mapping System (WPMS)  [http://wpm.maji.go.tz/]\n",
    "    * amount_tsh : ~70% of Train were Zero: ??? Take the average of pumps of a similar type? \n",
    "    * gps_height : ~ 34% of Train were Zero: ???? Take the average of pumps with similar latitude?\n",
    "    * population : ~36% of Train and X of Test -  ???\n"
   ]
  },
  {
   "cell_type": "code",
   "execution_count": 119,
   "metadata": {},
   "outputs": [],
   "source": [
    "# Functions for handling Zeros in Numeric columns\n",
    "\n",
    "def count_zeros(df, col_name):\n",
    "    return df[df[col_name]==0][col_name].count()\n"
   ]
  },
  {
   "cell_type": "code",
   "execution_count": 120,
   "metadata": {},
   "outputs": [
    {
     "output_type": "stream",
     "name": "stdout",
     "text": [
      "TRAIN: amount_tsh 41639\n",
      "TEST: amount_tsh 10410\n",
      "TRAIN: gps_height 20438\n",
      "TEST: gps_height 5211\n",
      "TRAIN: longitude 1812\n",
      "TEST: longitude 457\n",
      "TRAIN: num_private 58643\n",
      "TEST: num_private 14656\n",
      "TRAIN: district_code 23\n",
      "TEST: district_code 4\n",
      "TRAIN: population 21381\n",
      "TEST: population 5453\n",
      "TRAIN: construction_year 20709\n",
      "TEST: construction_year 5260\n"
     ]
    }
   ],
   "source": [
    "numeric_col_names = ['amount_tsh', 'gps_height', 'latitude', 'longitude', 'num_private', 'region_code', 'district_code', 'population', 'construction_year']\n",
    "\n",
    "for col_name in numeric_col_names:\n",
    "    the_train_count = count_zeros(train_values_processed, col_name)\n",
    "    the_test_count = count_zeros(test_values_processed, col_name)\n",
    "    if(the_test_count + the_train_count > 0):\n",
    "        print('TRAIN:', col_name, the_train_count)\n",
    "        print('TEST:', col_name, the_test_count)"
   ]
  },
  {
   "cell_type": "code",
   "execution_count": 121,
   "metadata": {},
   "outputs": [],
   "source": [
    "# Drop the num_private COLUMN\n",
    "train_values_processed.drop('num_private', axis=1, inplace=True)\n",
    "test_values_processed.drop('num_private', axis=1, inplace=True)"
   ]
  },
  {
   "cell_type": "code",
   "execution_count": 122,
   "metadata": {},
   "outputs": [],
   "source": [
    "# Drop the rows with 0 longitude\n",
    "train_indices_long = train_values_processed[train_values_processed['longitude'] == 0 ].index\n",
    "test_indices_long = test_values_processed[test_values_processed['longitude'] == 0 ].index\n",
    "train_values_processed.drop(train_indices_long, inplace=True)\n",
    "test_values_processed.drop(test_indices_long, inplace=True)\n",
    "\n",
    "# drop the rows with 0 district_code\n",
    "train_indices_distric_code = train_values_processed[train_values_processed['district_code'] == 0 ].index\n",
    "test_indices_distric_code = test_values_processed[test_values_processed['district_code'] == 0 ].index\n",
    "train_values_processed.drop(train_indices_distric_code, inplace=True)\n",
    "test_values_processed.drop(test_indices_distric_code, inplace=True)"
   ]
  },
  {
   "cell_type": "code",
   "execution_count": 123,
   "metadata": {},
   "outputs": [
    {
     "output_type": "stream",
     "name": "stdout",
     "text": [
      "1997\n1997\n"
     ]
    }
   ],
   "source": [
    "# Get the average construction year for TRAIN and TEST\n",
    "known_const_year_rows = train_values_processed[train_values_processed['construction_year']>0]\n",
    "avg_counstruction_year = int(known_const_year_rows['construction_year'].mean().round())\n",
    "print(avg_counstruction_year)\n",
    "\n",
    "test_known_const_year_rows = test_values_processed[test_values_processed['construction_year']>0]\n",
    "test_avg_counstruction_year = int(test_known_const_year_rows['construction_year'].mean().round())\n",
    "print(test_avg_counstruction_year)"
   ]
  },
  {
   "cell_type": "code",
   "execution_count": 124,
   "metadata": {},
   "outputs": [],
   "source": [
    "# Set construction_year to the average construction year where that value is 0\n",
    "test_values_processed['construction_year'] = test_values_processed.apply(lambda row: avg_counstruction_year if row['construction_year'] == 0 else row['construction_year'], axis=1)\n",
    "test_values_processed['construction_year'] = test_values_processed.apply(lambda row: test_avg_counstruction_year if row['construction_year'] == 0 else row['construction_year'], axis=1)"
   ]
  },
  {
   "cell_type": "markdown",
   "metadata": {},
   "source": [
    "### Normalize String columns - all to lower case\n",
    "\n",
    "* funder - Who funded the well\n",
    "* installer - Organization that installed the well\n",
    "* wpt_name - Name of the waterpoint if there is one\n",
    "* basin - Geographic water basin\n",
    "* subvillage - Geographic location\n",
    "* region - Geographic location\n",
    "* lga - Geographic location\n",
    "* ward - Geographic location\n",
    "* recorded_by - Group entering this row of data\n",
    "* scheme_management - Who operates the waterpoint\n",
    "* scheme_name - Who operates the waterpoint\n",
    "* extraction_type - The kind of extraction the waterpoint uses\n",
    "* extraction_type_group - The kind of extraction the waterpoint uses\n",
    "* extraction_type_class - The kind of extraction the waterpoint uses\n",
    "* management - How the waterpoint is managed\n",
    "* management_group - How the waterpoint is managed\n",
    "* payment_type - What the water costs\n",
    "* payment_type - What the water costs\n",
    "* water_quality - The quality of the water\n",
    "* quality_group - The quality of the water\n",
    "* quantity - The quantity of water\n",
    "* quantity_group - The quantity of water\n",
    "* source - The source of the water\n",
    "* source_type - The source of the water\n",
    "* source_class - The source of the water\n",
    "* waterpoint_type - The kind of waterpoint\n",
    "* waterpoint_type_group - The kind of waterpoin\n"
   ]
  },
  {
   "cell_type": "code",
   "execution_count": 125,
   "metadata": {},
   "outputs": [],
   "source": [
    "# Normalize String values function(s)\n",
    "def normalize_strings(df, col_name):\n",
    "     df[col_name] = df.apply(lambda row: row[col_name].lower(), axis=1)"
   ]
  },
  {
   "cell_type": "code",
   "execution_count": 126,
   "metadata": {},
   "outputs": [],
   "source": [
    "\n",
    "string_col_names = ['funder', 'wpt_name', 'basin', 'subvillage', 'region', 'lga', 'ward', 'recorded_by','scheme_management','scheme_name', 'extraction_type', 'extraction_type_group', 'extraction_type_class', 'management', 'management_group', 'payment', 'payment_type', 'water_quality', 'quality_group', 'quantity', 'quantity_group', 'source', 'source_type' , 'source_class', 'waterpoint_type', 'waterpoint_type_group']\n",
    "\n",
    "for col_name in string_col_names:\n",
    "    normalize_strings(train_values_processed, col_name)\n",
    "    normalize_strings(test_values_processed, col_name)\n"
   ]
  },
  {
   "cell_type": "markdown",
   "metadata": {},
   "source": [
    "### New Columns/Feature creation\n",
    "* recorded_year -  Pulling out the year from date_recorded\n",
    "* waterpoint_age - Calculate as recorded_year - construction_year\n",
    "* region_with_code - Combine region and region_code. There are more region_code values than region values\n",
    "* recorded_good_quality - True if quality_group == 'good', False if  anything other than 'good'\n",
    "* recorded_good_quantity - True if quanity_group == 'sufficient', False if anythign other than 'sufficient'\n",
    "\n",
    " "
   ]
  },
  {
   "cell_type": "code",
   "execution_count": 127,
   "metadata": {},
   "outputs": [],
   "source": [
    "# Functions for creating new features\n",
    "def get_recorded_year(recorded_date_string):\n",
    "    year = 0\n",
    "    date_segs = recorded_date_string.split('-')\n",
    "    if((len(date_segs) == 3) & (len(date_segs[0]) == 4)):\n",
    "        try:\n",
    "            year = int(date_segs[0])\n",
    "        except:\n",
    "            print(\"Not a valid year format.\") \n",
    "    return year\n",
    "\n",
    "\n",
    "def get_waterpoint_age(recorded_year, constructed_year):\n",
    "    age = 0\n",
    "    is_logical_year = constructed_year > 0\n",
    "    is_logical_age = recorded_year > constructed_year\n",
    "    if (is_logical_year & is_logical_age):\n",
    "        age = recorded_year - constructed_year\n",
    "    return age\n",
    "\n",
    "\n",
    "def get_region_name_and_code(region, region_code):\n",
    "    return region + '_' + str(region_code)\n",
    "\n",
    "\n",
    "def get_recorded_good_quality(quality_group):\n",
    "    result = False\n",
    "    if ('good' == quality_group):\n",
    "        result = True\n",
    "    return result\n",
    "\n",
    "\n",
    "def get_recorded_good_quanity(quanity_group):\n",
    "    result = False\n",
    "    if ('enough' == quanity_group):\n",
    "        result = True\n",
    "    return result\n",
    "        "
   ]
  },
  {
   "cell_type": "code",
   "execution_count": 128,
   "metadata": {},
   "outputs": [],
   "source": [
    "# recorded_year\n",
    "train_values_processed['recorded_year'] = train_values_processed.apply(lambda row: get_recorded_year(row['date_recorded']), axis=1)\n",
    "test_values_processed['recorded_year'] = test_values_processed.apply(lambda row: get_recorded_year(row['date_recorded']), axis=1)"
   ]
  },
  {
   "cell_type": "code",
   "execution_count": 129,
   "metadata": {
    "tags": []
   },
   "outputs": [],
   "source": [
    "# waterpoint_age\n",
    "train_values_processed['waterpoint_age'] = train_values_processed.apply(lambda row: get_waterpoint_age(row['recorded_year'],row['construction_year']), axis=1)\n",
    "test_values_processed['waterpoint_age'] = test_values_processed.apply(lambda row: get_waterpoint_age(row['recorded_year'], row['construction_year']), axis=1)"
   ]
  },
  {
   "cell_type": "code",
   "execution_count": 130,
   "metadata": {},
   "outputs": [],
   "source": [
    "# region_code_and_name\n",
    "train_values_processed['region_code_and_name'] = train_values_processed.apply(lambda row: get_region_name_and_code(row['region'],row['region_code']), axis=1)\n",
    "test_values_processed['region_code_and_name'] = test_values_processed.apply(lambda row: get_region_name_and_code(row['region'], row['region_code']), axis=1)"
   ]
  },
  {
   "cell_type": "code",
   "execution_count": 131,
   "metadata": {},
   "outputs": [],
   "source": [
    "# recorded_good_quality\n",
    "train_values_processed['recorded_good_quality'] = train_values_processed.apply(lambda row: get_recorded_good_quality(row['quality_group']), axis=1)\n",
    "test_values_processed['recorded_good_quality'] = test_values_processed.apply(lambda row: get_recorded_good_quality(row['quality_group']), axis=1)"
   ]
  },
  {
   "cell_type": "code",
   "execution_count": 132,
   "metadata": {},
   "outputs": [],
   "source": [
    "# recorded_good_quanity\n",
    "train_values_processed['recorded_good_quantity'] = train_values_processed.apply(lambda row: get_recorded_good_quanity(row['quantity_group']), axis=1)\n",
    "test_values_processed['recorded_good_quantity'] = test_values_processed.apply(lambda row: get_recorded_good_quanity(row['quantity_group']), axis=1)"
   ]
  },
  {
   "cell_type": "markdown",
   "metadata": {},
   "source": [
    "## Final Prep\n",
    "* Add the class labels to the TRAINING dataset only\n",
    "* Save both processed TRAINING and TEST to file for use in EDA and Classifer Modeling\n"
   ]
  },
  {
   "cell_type": "code",
   "execution_count": 133,
   "metadata": {},
   "outputs": [],
   "source": [
    "train_values_processed_and_labeled = pd.merge(train_values_processed, train_labels_raw, on='id')"
   ]
  },
  {
   "cell_type": "code",
   "execution_count": 134,
   "metadata": {},
   "outputs": [],
   "source": [
    "train_values_processed_and_labeled.to_csv('../data/train_processed_labeled.csv', index=False)\n",
    "test_values_processed.to_csv('../data/test_processed.csv', index=False)"
   ]
  },
  {
   "cell_type": "code",
   "execution_count": 135,
   "metadata": {},
   "outputs": [
    {
     "output_type": "execute_result",
     "data": {
      "text/plain": [
       "(57565, 45)"
      ]
     },
     "metadata": {},
     "execution_count": 135
    }
   ],
   "source": [
    "train_values_processed_and_labeled.shape"
   ]
  },
  {
   "cell_type": "code",
   "execution_count": 136,
   "metadata": {},
   "outputs": [
    {
     "output_type": "execute_result",
     "data": {
      "text/plain": [
       "(14389, 44)"
      ]
     },
     "metadata": {},
     "execution_count": 136
    }
   ],
   "source": [
    "test_values_processed.shape"
   ]
  },
  {
   "cell_type": "code",
   "execution_count": null,
   "metadata": {},
   "outputs": [],
   "source": []
  }
 ]
}