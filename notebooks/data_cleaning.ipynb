{
 "cells": [
  {
   "cell_type": "markdown",
   "metadata": {},
   "source": [
    "# Data Cleaning and EDA Prep Notebook"
   ]
  },
  {
   "cell_type": "code",
   "execution_count": 1,
   "metadata": {},
   "outputs": [],
   "source": [
    "# Import the required libraries\n",
    "import pandas as pd\n",
    "import numpy as np\n",
    "\n",
    "# set up pandas to display floats in a more human friendly way\n",
    "pd.options.display.float_format = '{:,.2f}'.format"
   ]
  },
  {
   "cell_type": "markdown",
   "metadata": {},
   "source": [
    "### Original training data files downloaded from data source were split between values and labels. \n",
    "#### Step 1: Conduct data cleaning USING FUNCTIONS on the Training and Test Files\n",
    "#### Step 2: Combine the Training values and labels into a single file for use in model training."
   ]
  },
  {
   "cell_type": "code",
   "execution_count": 2,
   "metadata": {},
   "outputs": [
    {
     "output_type": "stream",
     "name": "stdout",
     "text": [
      "(59400, 40)\n"
     ]
    },
    {
     "output_type": "execute_result",
     "data": {
      "text/plain": [
       "      id  amount_tsh date_recorded        funder  gps_height     installer  \\\n",
       "0  69572    6,000.00    2011-03-14         Roman        1390         Roman   \n",
       "1   8776        0.00    2013-03-06       Grumeti        1399       GRUMETI   \n",
       "2  34310       25.00    2013-02-25  Lottery Club         686  World vision   \n",
       "\n",
       "   longitude  latitude     wpt_name  num_private  ... payment_type  \\\n",
       "0      34.94     -9.86         none            0  ...     annually   \n",
       "1      34.70     -2.15     Zahanati            0  ...    never pay   \n",
       "2      37.46     -3.82  Kwa Mahundi            0  ...   per bucket   \n",
       "\n",
       "  water_quality quality_group      quantity  quantity_group  \\\n",
       "0          soft          good        enough          enough   \n",
       "1          soft          good  insufficient    insufficient   \n",
       "2          soft          good        enough          enough   \n",
       "\n",
       "                 source           source_type  source_class  \\\n",
       "0                spring                spring   groundwater   \n",
       "1  rainwater harvesting  rainwater harvesting       surface   \n",
       "2                   dam                   dam       surface   \n",
       "\n",
       "               waterpoint_type waterpoint_type_group  \n",
       "0           communal standpipe    communal standpipe  \n",
       "1           communal standpipe    communal standpipe  \n",
       "2  communal standpipe multiple    communal standpipe  \n",
       "\n",
       "[3 rows x 40 columns]"
      ],
      "text/html": "<div>\n<style scoped>\n    .dataframe tbody tr th:only-of-type {\n        vertical-align: middle;\n    }\n\n    .dataframe tbody tr th {\n        vertical-align: top;\n    }\n\n    .dataframe thead th {\n        text-align: right;\n    }\n</style>\n<table border=\"1\" class=\"dataframe\">\n  <thead>\n    <tr style=\"text-align: right;\">\n      <th></th>\n      <th>id</th>\n      <th>amount_tsh</th>\n      <th>date_recorded</th>\n      <th>funder</th>\n      <th>gps_height</th>\n      <th>installer</th>\n      <th>longitude</th>\n      <th>latitude</th>\n      <th>wpt_name</th>\n      <th>num_private</th>\n      <th>...</th>\n      <th>payment_type</th>\n      <th>water_quality</th>\n      <th>quality_group</th>\n      <th>quantity</th>\n      <th>quantity_group</th>\n      <th>source</th>\n      <th>source_type</th>\n      <th>source_class</th>\n      <th>waterpoint_type</th>\n      <th>waterpoint_type_group</th>\n    </tr>\n  </thead>\n  <tbody>\n    <tr>\n      <th>0</th>\n      <td>69572</td>\n      <td>6,000.00</td>\n      <td>2011-03-14</td>\n      <td>Roman</td>\n      <td>1390</td>\n      <td>Roman</td>\n      <td>34.94</td>\n      <td>-9.86</td>\n      <td>none</td>\n      <td>0</td>\n      <td>...</td>\n      <td>annually</td>\n      <td>soft</td>\n      <td>good</td>\n      <td>enough</td>\n      <td>enough</td>\n      <td>spring</td>\n      <td>spring</td>\n      <td>groundwater</td>\n      <td>communal standpipe</td>\n      <td>communal standpipe</td>\n    </tr>\n    <tr>\n      <th>1</th>\n      <td>8776</td>\n      <td>0.00</td>\n      <td>2013-03-06</td>\n      <td>Grumeti</td>\n      <td>1399</td>\n      <td>GRUMETI</td>\n      <td>34.70</td>\n      <td>-2.15</td>\n      <td>Zahanati</td>\n      <td>0</td>\n      <td>...</td>\n      <td>never pay</td>\n      <td>soft</td>\n      <td>good</td>\n      <td>insufficient</td>\n      <td>insufficient</td>\n      <td>rainwater harvesting</td>\n      <td>rainwater harvesting</td>\n      <td>surface</td>\n      <td>communal standpipe</td>\n      <td>communal standpipe</td>\n    </tr>\n    <tr>\n      <th>2</th>\n      <td>34310</td>\n      <td>25.00</td>\n      <td>2013-02-25</td>\n      <td>Lottery Club</td>\n      <td>686</td>\n      <td>World vision</td>\n      <td>37.46</td>\n      <td>-3.82</td>\n      <td>Kwa Mahundi</td>\n      <td>0</td>\n      <td>...</td>\n      <td>per bucket</td>\n      <td>soft</td>\n      <td>good</td>\n      <td>enough</td>\n      <td>enough</td>\n      <td>dam</td>\n      <td>dam</td>\n      <td>surface</td>\n      <td>communal standpipe multiple</td>\n      <td>communal standpipe</td>\n    </tr>\n  </tbody>\n</table>\n<p>3 rows × 40 columns</p>\n</div>"
     },
     "metadata": {},
     "execution_count": 2
    }
   ],
   "source": [
    "# TRAINING DATA\n",
    "train_values_raw = pd.read_csv('../data/original/TrainingSetValues/4910797b-ee55-40a7-8668-10efd5c1b960.csv')\n",
    "\n",
    "print(train_values_raw.shape)\n",
    "train_values_raw.head(3)"
   ]
  },
  {
   "cell_type": "code",
   "execution_count": 4,
   "metadata": {},
   "outputs": [
    {
     "output_type": "stream",
     "name": "stdout",
     "text": [
      "(59400, 2)\n"
     ]
    },
    {
     "output_type": "execute_result",
     "data": {
      "text/plain": [
       "      id status_group\n",
       "0  69572   functional\n",
       "1   8776   functional\n",
       "2  34310   functional"
      ],
      "text/html": "<div>\n<style scoped>\n    .dataframe tbody tr th:only-of-type {\n        vertical-align: middle;\n    }\n\n    .dataframe tbody tr th {\n        vertical-align: top;\n    }\n\n    .dataframe thead th {\n        text-align: right;\n    }\n</style>\n<table border=\"1\" class=\"dataframe\">\n  <thead>\n    <tr style=\"text-align: right;\">\n      <th></th>\n      <th>id</th>\n      <th>status_group</th>\n    </tr>\n  </thead>\n  <tbody>\n    <tr>\n      <th>0</th>\n      <td>69572</td>\n      <td>functional</td>\n    </tr>\n    <tr>\n      <th>1</th>\n      <td>8776</td>\n      <td>functional</td>\n    </tr>\n    <tr>\n      <th>2</th>\n      <td>34310</td>\n      <td>functional</td>\n    </tr>\n  </tbody>\n</table>\n</div>"
     },
     "metadata": {},
     "execution_count": 4
    }
   ],
   "source": [
    "# TRAIN TARGET\n",
    "train_targets = pd.read_csv('../data/original/TrainingSetLabels/0bf8bc6e-30d0-4c50-956a-603fc693d966.csv')\n",
    "\n",
    "print(train_targets.shape)\n",
    "train_targets.head(3)"
   ]
  },
  {
   "cell_type": "code",
   "execution_count": 5,
   "metadata": {},
   "outputs": [
    {
     "output_type": "stream",
     "name": "stdout",
     "text": [
      "(14850, 40)\n"
     ]
    },
    {
     "output_type": "execute_result",
     "data": {
      "text/plain": [
       "      id  amount_tsh date_recorded                  funder  gps_height  \\\n",
       "0  50785        0.00    2013-02-04                    Dmdd        1996   \n",
       "1  51630        0.00    2013-02-04  Government Of Tanzania        1569   \n",
       "2  17168        0.00    2013-02-01                     NaN        1567   \n",
       "\n",
       "  installer  longitude  latitude                 wpt_name  num_private  ...  \\\n",
       "0      DMDD      35.29     -4.06  Dinamu Secondary School            0  ...   \n",
       "1       DWE      36.66     -3.31                  Kimnyak            0  ...   \n",
       "2       NaN      34.77     -5.00           Puma Secondary            0  ...   \n",
       "\n",
       "  payment_type water_quality quality_group      quantity  quantity_group  \\\n",
       "0    never pay          soft          good      seasonal        seasonal   \n",
       "1    never pay          soft          good  insufficient    insufficient   \n",
       "2    never pay          soft          good  insufficient    insufficient   \n",
       "\n",
       "                 source           source_type  source_class  \\\n",
       "0  rainwater harvesting  rainwater harvesting       surface   \n",
       "1                spring                spring   groundwater   \n",
       "2  rainwater harvesting  rainwater harvesting       surface   \n",
       "\n",
       "      waterpoint_type waterpoint_type_group  \n",
       "0               other                 other  \n",
       "1  communal standpipe    communal standpipe  \n",
       "2               other                 other  \n",
       "\n",
       "[3 rows x 40 columns]"
      ],
      "text/html": "<div>\n<style scoped>\n    .dataframe tbody tr th:only-of-type {\n        vertical-align: middle;\n    }\n\n    .dataframe tbody tr th {\n        vertical-align: top;\n    }\n\n    .dataframe thead th {\n        text-align: right;\n    }\n</style>\n<table border=\"1\" class=\"dataframe\">\n  <thead>\n    <tr style=\"text-align: right;\">\n      <th></th>\n      <th>id</th>\n      <th>amount_tsh</th>\n      <th>date_recorded</th>\n      <th>funder</th>\n      <th>gps_height</th>\n      <th>installer</th>\n      <th>longitude</th>\n      <th>latitude</th>\n      <th>wpt_name</th>\n      <th>num_private</th>\n      <th>...</th>\n      <th>payment_type</th>\n      <th>water_quality</th>\n      <th>quality_group</th>\n      <th>quantity</th>\n      <th>quantity_group</th>\n      <th>source</th>\n      <th>source_type</th>\n      <th>source_class</th>\n      <th>waterpoint_type</th>\n      <th>waterpoint_type_group</th>\n    </tr>\n  </thead>\n  <tbody>\n    <tr>\n      <th>0</th>\n      <td>50785</td>\n      <td>0.00</td>\n      <td>2013-02-04</td>\n      <td>Dmdd</td>\n      <td>1996</td>\n      <td>DMDD</td>\n      <td>35.29</td>\n      <td>-4.06</td>\n      <td>Dinamu Secondary School</td>\n      <td>0</td>\n      <td>...</td>\n      <td>never pay</td>\n      <td>soft</td>\n      <td>good</td>\n      <td>seasonal</td>\n      <td>seasonal</td>\n      <td>rainwater harvesting</td>\n      <td>rainwater harvesting</td>\n      <td>surface</td>\n      <td>other</td>\n      <td>other</td>\n    </tr>\n    <tr>\n      <th>1</th>\n      <td>51630</td>\n      <td>0.00</td>\n      <td>2013-02-04</td>\n      <td>Government Of Tanzania</td>\n      <td>1569</td>\n      <td>DWE</td>\n      <td>36.66</td>\n      <td>-3.31</td>\n      <td>Kimnyak</td>\n      <td>0</td>\n      <td>...</td>\n      <td>never pay</td>\n      <td>soft</td>\n      <td>good</td>\n      <td>insufficient</td>\n      <td>insufficient</td>\n      <td>spring</td>\n      <td>spring</td>\n      <td>groundwater</td>\n      <td>communal standpipe</td>\n      <td>communal standpipe</td>\n    </tr>\n    <tr>\n      <th>2</th>\n      <td>17168</td>\n      <td>0.00</td>\n      <td>2013-02-01</td>\n      <td>NaN</td>\n      <td>1567</td>\n      <td>NaN</td>\n      <td>34.77</td>\n      <td>-5.00</td>\n      <td>Puma Secondary</td>\n      <td>0</td>\n      <td>...</td>\n      <td>never pay</td>\n      <td>soft</td>\n      <td>good</td>\n      <td>insufficient</td>\n      <td>insufficient</td>\n      <td>rainwater harvesting</td>\n      <td>rainwater harvesting</td>\n      <td>surface</td>\n      <td>other</td>\n      <td>other</td>\n    </tr>\n  </tbody>\n</table>\n<p>3 rows × 40 columns</p>\n</div>"
     },
     "metadata": {},
     "execution_count": 5
    }
   ],
   "source": [
    "# VALIDATION DATA \n",
    "test_values_raw = pd.read_csv('../data/original/TestSetValues/702ddfc5-68cd-4d1d-a0de-f5f566f76d91.csv')\n",
    "\n",
    "print(test_values_raw.shape)\n",
    "test_values_raw.head(3)"
   ]
  },
  {
   "cell_type": "markdown",
   "metadata": {},
   "source": [
    "## Column and Row Information\n",
    "* 40 columns/features in the raw data TRAINING and TEST\n",
    "* 59,400 rows in the TRAINING data\n",
    "    * TRAINING labels: \n",
    "        * functional                 32,259\n",
    "        * non functional             22,824\n",
    "        * functional needs repair     4,317\n",
    "\n",
    "* 14,850 rows in the TEST data"
   ]
  },
  {
   "cell_type": "code",
   "execution_count": 6,
   "metadata": {},
   "outputs": [
    {
     "output_type": "execute_result",
     "data": {
      "text/plain": [
       "id                         int64\n",
       "amount_tsh               float64\n",
       "date_recorded             object\n",
       "funder                    object\n",
       "gps_height                 int64\n",
       "installer                 object\n",
       "longitude                float64\n",
       "latitude                 float64\n",
       "wpt_name                  object\n",
       "num_private                int64\n",
       "basin                     object\n",
       "subvillage                object\n",
       "region                    object\n",
       "region_code                int64\n",
       "district_code              int64\n",
       "lga                       object\n",
       "ward                      object\n",
       "population                 int64\n",
       "public_meeting            object\n",
       "recorded_by               object\n",
       "scheme_management         object\n",
       "scheme_name               object\n",
       "permit                    object\n",
       "construction_year          int64\n",
       "extraction_type           object\n",
       "extraction_type_group     object\n",
       "extraction_type_class     object\n",
       "management                object\n",
       "management_group          object\n",
       "payment                   object\n",
       "payment_type              object\n",
       "water_quality             object\n",
       "quality_group             object\n",
       "quantity                  object\n",
       "quantity_group            object\n",
       "source                    object\n",
       "source_type               object\n",
       "source_class              object\n",
       "waterpoint_type           object\n",
       "waterpoint_type_group     object\n",
       "dtype: object"
      ]
     },
     "metadata": {},
     "execution_count": 6
    }
   ],
   "source": [
    "train_values_raw.dtypes"
   ]
  },
  {
   "cell_type": "code",
   "execution_count": 7,
   "metadata": {},
   "outputs": [
    {
     "output_type": "stream",
     "name": "stdout",
     "text": [
      "id 59400 [69572  8776 34310 67743 19728  9944 19816 54551 53934 46144 49056 50409\n 36957 50495 53752 61848 48451 58155 34169 18274] \n\namount_tsh 98 [6000.    0.   25.   20.  200.  500.   50. 4000. 1500.    6.  250.   10.\n 1000.  100.   30. 2000.  400. 1200.   40.  300.] \n\ndate_recorded 356 ['2011-03-14' '2013-03-06' '2013-02-25' '2013-01-28' '2011-07-13'\n '2011-03-13' '2012-10-01' '2012-10-09' '2012-11-03' '2011-08-03'\n '2011-02-20' '2013-02-18' '2012-10-14' '2013-03-15' '2012-10-20'\n '2011-08-04' '2011-07-04' '2011-09-04' '2011-07-22' '2011-02-22'] \n\nfunder 1898 ['Roman' 'Grumeti' 'Lottery Club' 'Unicef' 'Action In A'\n 'Mkinga Distric Coun' 'Dwsp' 'Rwssp' 'Wateraid' 'Isingiro Ho' 'Private'\n 'Danida' 'World Vision' 'Lawatefuka Water Supply' 'Biore' 'Rudep'\n 'Hesawa' 'Twe' 'Isf' 'African Development Bank'] \n\ngps_height 2428 [1390 1399  686  263    0   62 1062 1368 1645 1703 1656 1162 1763 2216\n 1510  672 1273  200 1443 1256] \n\ninstaller 2146 ['Roman' 'GRUMETI' 'World vision' 'UNICEF' 'Artisan' 'DWE' 'DWSP'\n 'Water Aid' 'Private' 'DANIDA' 'Lawatefuka water sup' 'WEDECO' 'Danid'\n 'TWE' 'ISF' 'Kilolo Star' 'District council' 'Water' 'WU' nan] \n\nlongitude 57516 [34.93809275 34.6987661  37.46066446 38.48616088 31.13084671 39.1727956\n 33.36240982 32.62061707 32.71110001 30.62699053 39.20951812 35.77025785\n 33.79810612 37.09257412 34.36407268 31.44412134 34.64243884 34.56926611\n 32.92015381 34.50896732] \n\nlatitude 57517 [ -9.85632177  -2.14746569  -3.82132853 -11.15529772  -1.82535885\n  -4.76558728  -3.76636472  -4.22619802  -5.14671181  -1.25705061\n  -7.03413939 -10.57417468  -3.2901938   -3.1817833   -3.62933335\n  -8.27496163  -9.10618458  -9.08551497  -1.94786801  -9.8944125 ] \n\nwpt_name 37400 ['none' 'Zahanati' 'Kwa Mahundi' 'Zahanati Ya Nanyumbu' 'Shuleni' 'Tajiri'\n 'Kwa Ngomho' 'Tushirikiane' 'Kwa Ramadhan Musa' 'Kwapeto' 'Mzee Hokororo'\n 'Kwa Alid Nchimbi' 'Pamba' 'Kwa John Izack Mmari' 'Mwabasabi'\n \"Kwa Juvenal Ching'Ombe\" 'Kwa John Mtenzi' 'Kwa Rose Chaula' 'Ngomee'\n 'Muungano'] \n\nnum_private 65 [  0  39   5  45   6   3 698  32  15   7  25 102   1  93  14  34 120  17\n 213  47] \n\nbasin 9 ['Lake Nyasa' 'Lake Victoria' 'Pangani' 'Ruvuma / Southern Coast'\n 'Internal' 'Lake Tanganyika' 'Wami / Ruvu' 'Rufiji' 'Lake Rukwa'] \n\nsubvillage 19288 ['Mnyusi B' 'Nyamara' 'Majengo' 'Mahakamani' 'Kyanyamisa' 'Moa/Mwereme'\n 'Ishinabulandi' 'Nyawishi Center' 'Imalauduki' 'Mkonomre' 'Mizugo'\n 'Ngondombwito' 'Nkilifa' 'Omarini' 'Mwabasabi' 'Tunzi' 'Kidudumo'\n 'Yeriko' 'Center' 'Manyanya'] \n\nregion 21 ['Iringa' 'Mara' 'Manyara' 'Mtwara' 'Kagera' 'Tanga' 'Shinyanga' 'Tabora'\n 'Pwani' 'Ruvuma' 'Kilimanjaro' 'Rukwa' 'Mwanza' 'Kigoma' 'Lindi' 'Dodoma'\n 'Arusha' 'Mbeya' 'Singida' 'Morogoro'] \n\nregion_code 27 [11 20 21 90 18  4 17 14 60 10  3 15 19 16 80  1  6  2 12 13] \n\ndistrict_code 20 [ 5  2  4 63  1  8  3  6 43  7 23 33 53 62 60 30 13  0 80 67] \n\nlga 125 ['Ludewa' 'Serengeti' 'Simanjiro' 'Nanyumbu' 'Karagwe' 'Mkinga'\n 'Shinyanga Rural' 'Kahama' 'Tabora Urban' 'Mkuranga' 'Namtumbo' 'Maswa'\n 'Siha' 'Meatu' 'Sumbawanga Rural' 'Njombe' 'Ukerewe' 'Bariadi' 'Same'\n 'Kigoma Rural'] \n\nward 2092 ['Mundindi' 'Natta' 'Ngorika' 'Nanyumbu' 'Nyakasimbi' 'Moa' 'Samuye'\n 'Chambo' 'Itetemia' 'Kaisho' 'Tambani' 'Msindo' 'Busilili'\n 'Siha Kaskazini' 'Nkoma' 'Mkowe' 'Mdandu' 'Usuka' 'Ilangala' 'Mawengi'] \n\npopulation 1049 [ 109  280  250   58    0    1  345  200   35   50 1000    4  350  210\n  156  140  260  150  180   70] \n\npublic_meeting 3 [True nan False] \n\nrecorded_by 1 ['GeoData Consultants Ltd'] \n\nscheme_management 13 ['VWC' 'Other' nan 'Private operator' 'WUG' 'Water Board' 'WUA'\n 'Water authority' 'Company' 'Parastatal' 'Trust' 'SWC' 'None'] \n\nscheme_name 2697 ['Roman' nan 'Nyumba ya mungu pipe scheme' 'Zingibali' 'BL Bondeni' 'None'\n \"wanging'ombe water supply s\" 'Makanj' 'Kidabu' 'Mashangwi'\n 'Quick wins Program' 'Komaka mandaka' 'Sobodo Borehole Scheme'\n 'Kitukuni water supply' 'BL Mwakikoti' 'Chalinze wate' 'Mae pipeline'\n 'UNDP' 'Ngana water supplied scheme' 'Itun'] \n\npermit 3 [False True nan] \n\nconstruction_year 55 [1999 2010 2009 1986    0 2011 1987 1991 1978 1992 2008 1974 2000 2002\n 2004 1972 2003 1980 2007 1973] \n\nextraction_type 18 ['gravity' 'submersible' 'swn 80' 'nira/tanira' 'india mark ii' 'other'\n 'ksb' 'mono' 'windmill' 'afridev' 'other - rope pump' 'india mark iii'\n 'other - swn 81' 'other - play pump' 'cemo' 'climax' 'walimi'\n 'other - mkulima/shinyanga'] \n\nextraction_type_group 13 ['gravity' 'submersible' 'swn 80' 'nira/tanira' 'india mark ii' 'other'\n 'mono' 'wind-powered' 'afridev' 'rope pump' 'india mark iii'\n 'other handpump' 'other motorpump'] \n\nextraction_type_class 7 ['gravity' 'submersible' 'handpump' 'other' 'motorpump' 'wind-powered'\n 'rope pump'] \n\nmanagement 12 ['vwc' 'wug' 'other' 'private operator' 'water board' 'wua' 'company'\n 'water authority' 'parastatal' 'unknown' 'other - school' 'trust'] \n\nmanagement_group 5 ['user-group' 'other' 'commercial' 'parastatal' 'unknown'] \n\npayment 7 ['pay annually' 'never pay' 'pay per bucket' 'unknown'\n 'pay when scheme fails' 'other' 'pay monthly'] \n\npayment_type 7 ['annually' 'never pay' 'per bucket' 'unknown' 'on failure' 'other'\n 'monthly'] \n\nwater_quality 8 ['soft' 'salty' 'milky' 'unknown' 'fluoride' 'coloured' 'salty abandoned'\n 'fluoride abandoned'] \n\nquality_group 6 ['good' 'salty' 'milky' 'unknown' 'fluoride' 'colored'] \n\nquantity 5 ['enough' 'insufficient' 'dry' 'seasonal' 'unknown'] \n\nquantity_group 5 ['enough' 'insufficient' 'dry' 'seasonal' 'unknown'] \n\nsource 10 ['spring' 'rainwater harvesting' 'dam' 'machine dbh' 'other'\n 'shallow well' 'river' 'hand dtw' 'lake' 'unknown'] \n\nsource_type 7 ['spring' 'rainwater harvesting' 'dam' 'borehole' 'other' 'shallow well'\n 'river/lake'] \n\nsource_class 3 ['groundwater' 'surface' 'unknown'] \n\nwaterpoint_type 7 ['communal standpipe' 'communal standpipe multiple' 'hand pump' 'other'\n 'improved spring' 'cattle trough' 'dam'] \n\nwaterpoint_type_group 6 ['communal standpipe' 'hand pump' 'other' 'improved spring'\n 'cattle trough' 'dam'] \n\n"
     ]
    }
   ],
   "source": [
    "for var in train_values_raw.columns:\n",
    "    # print the first 20 unique values in the cols\n",
    "    unique_vals = train_values_raw[var].unique()\n",
    "    print(var, unique_vals.size, unique_vals[0:20], '\\n')"
   ]
  },
  {
   "cell_type": "markdown",
   "metadata": {},
   "source": [
    "## Original Data Column Descriptions\n",
    "\n",
    "* id - Numeric identifer for the waterpoint\n",
    "* amount_tsh - Total static head (amount water available to waterpoint)\n",
    "* date_recorded - The date the row was entered\n",
    "* funder - Who funded the well\n",
    "* gps_height - Altitude of the well\n",
    "* installer - Organization that installed the well\n",
    "* longitude - GPS coordinate\n",
    "* latitude - GPS coordinate\n",
    "* wpt_name - Name of the waterpoint if there is one\n",
    "* num_private -\n",
    "* basin - Geographic water basin\n",
    "* subvillage - Geographic location\n",
    "* region - Geographic location, NOTE: Hierarchy is Region > LGA > Ward\n",
    "* region_code - Geographic location (coded)\n",
    "* district_code - Geographic location (coded)\n",
    "* lga - Geographic location\n",
    "* ward - Geographic location\n",
    "* population - Population around the well\n",
    "* public_meeting - True/False\n",
    "* recorded_by - Group entering this row of data\n",
    "* scheme_management - Who operates the waterpoint\n",
    "* scheme_name - Who operates the waterpoint\n",
    "* permit - True/False, If the waterpoint is permitted\n",
    "* construction_year - Year the waterpoint was constructed\n",
    "* extraction_type - The kind of extraction the waterpoint uses\n",
    "* extraction_type_group - The kind of extraction the waterpoint uses\n",
    "* extraction_type_class - The kind of extraction the waterpoint uses\n",
    "* management - How the waterpoint is managed\n",
    "* management_group - How the waterpoint is managed\n",
    "* payment - What the water costs\n",
    "* payment_type - What the water costs\n",
    "* water_quality - The quality of the water\n",
    "* quality_group - The quality of the water\n",
    "* quantity - The quantity of water\n",
    "* quantity_group - The quantity of water\n",
    "* source - The source of the water\n",
    "* source_type - The source of the water\n",
    "* source_class - The source of the water\n",
    "* waterpoint_type - The kind of waterpoint\n",
    "* waterpoint_type_group - The kind of waterpoint\n",
    "\n"
   ]
  },
  {
   "cell_type": "markdown",
   "metadata": {},
   "source": [
    "## Data cleaning steps:\n",
    "* __Duplicate check__ \n",
    "\n",
    "* __Address Null Values__\n",
    "\n",
    "* __Address Zeros in Numeric Values__\n",
    "\n",
    "* __String type normalization__\n",
    "\n",
    "* __Note:__ No Data type conversions needed"
   ]
  },
  {
   "cell_type": "markdown",
   "metadata": {},
   "source": [
    "### Duplicate Check\n",
    "Spoiler Alert: There are no exact duplicate rows nor duplicate identifers in the Training or Test dataset"
   ]
  },
  {
   "cell_type": "code",
   "execution_count": 8,
   "metadata": {},
   "outputs": [],
   "source": [
    "# Functions for Duplicate checks \n",
    "def has_exact_dups(df):\n",
    "    dups = df[df.duplicated()]\n",
    "    return len(dups) > 0\n",
    "\n",
    "def has_identifier_dups(df, col_name='id'):\n",
    "    num_rows = df.shape[0]\n",
    "    num_ids = len(df[col_name].unique())\n",
    "    return num_ids != num_rows"
   ]
  },
  {
   "cell_type": "code",
   "execution_count": 9,
   "metadata": {},
   "outputs": [
    {
     "output_type": "stream",
     "name": "stdout",
     "text": [
      "False False False False\n"
     ]
    }
   ],
   "source": [
    "# Dup checking\n",
    "dup1 = has_exact_dups(train_values_raw)\n",
    "dup2 = has_identifier_dups(train_values_raw)\n",
    "dup3 = has_exact_dups(test_values_raw)\n",
    "dup4 = has_identifier_dups(test_values_raw)\n",
    "print(dup1, dup2, dup3, dup4)"
   ]
  },
  {
   "cell_type": "code",
   "execution_count": 10,
   "metadata": {},
   "outputs": [],
   "source": [
    "# Make a deep copy before any data cleaning (Deep copy has own copy of data and index)\n",
    "train_values_processed = train_values_raw.copy(deep=True)\n",
    "test_values_processed = test_values_raw.copy(deep=True)"
   ]
  },
  {
   "cell_type": "markdown",
   "metadata": {},
   "source": [
    "### Handling Null Values\n",
    "#### TRAINING and TEST columns with Null values:\n",
    "* funder : set to 'unknown' when null\n",
    "* installer : set to 'unknown' when null\n",
    "* subvillage : set to 'unknown' when null\n",
    "* public_meeting : set to True when null\n",
    "    * Training dataset: only 5055 out of 59,400 were False. 51,011 out of 59,4000 were True. \n",
    "    * Test dataset: only 1291 out of 14,850 were False, 12,738 out of 14,850 were True.\n",
    "    * As the vast majority of both Training and Test waterpoints have public_meeting of True, use True to replace all nulls.\n",
    "* scheme_management : set to 'unknown' when null\n",
    "* scheme_name : set to 'unknown' when null\n",
    "* permit : set to True when nulls\n",
    "    * Training dataset: 38,852 out of 59,4000 were True. 17,492 out of 59,4000 where False. \n",
    "    * Test dataset:  9754 out of 14,850 were True. 4359 out of 14,850 were False\n",
    "    * As the majority of both Training and Test waterpoints have permit populated as True, use True to replace all nulls.\n"
   ]
  },
  {
   "cell_type": "code",
   "execution_count": 11,
   "metadata": {},
   "outputs": [],
   "source": [
    "# Null handler functions\n",
    "def handle_nulls_inplace(df, cols_to_fill):\n",
    "    for item in cols_to_fill:\n",
    "        for key, value in item.items():\n",
    "            df[key].fillna(value, inplace=True)"
   ]
  },
  {
   "cell_type": "markdown",
   "metadata": {},
   "source": [
    "See what percentage of data is missing"
   ]
  },
  {
   "cell_type": "code",
   "execution_count": 12,
   "metadata": {},
   "outputs": [
    {
     "output_type": "execute_result",
     "data": {
      "text/plain": [
       "id                      0.00\n",
       "amount_tsh              0.00\n",
       "date_recorded           0.00\n",
       "funder                  0.06\n",
       "gps_height              0.00\n",
       "installer               0.06\n",
       "longitude               0.00\n",
       "latitude                0.00\n",
       "wpt_name                0.00\n",
       "num_private             0.00\n",
       "basin                   0.00\n",
       "subvillage              0.01\n",
       "region                  0.00\n",
       "region_code             0.00\n",
       "district_code           0.00\n",
       "lga                     0.00\n",
       "ward                    0.00\n",
       "population              0.00\n",
       "public_meeting          0.06\n",
       "recorded_by             0.00\n",
       "scheme_management       0.07\n",
       "scheme_name             0.47\n",
       "permit                  0.05\n",
       "construction_year       0.00\n",
       "extraction_type         0.00\n",
       "extraction_type_group   0.00\n",
       "extraction_type_class   0.00\n",
       "management              0.00\n",
       "management_group        0.00\n",
       "payment                 0.00\n",
       "payment_type            0.00\n",
       "water_quality           0.00\n",
       "quality_group           0.00\n",
       "quantity                0.00\n",
       "quantity_group          0.00\n",
       "source                  0.00\n",
       "source_type             0.00\n",
       "source_class            0.00\n",
       "waterpoint_type         0.00\n",
       "waterpoint_type_group   0.00\n",
       "dtype: float64"
      ]
     },
     "metadata": {},
     "execution_count": 12
    }
   ],
   "source": [
    "train_values_processed.isnull().mean()"
   ]
  },
  {
   "cell_type": "code",
   "execution_count": 13,
   "metadata": {},
   "outputs": [],
   "source": [
    "cols_to_fill = [{'funder': 'unknown'}, {'installer': 'unknown'}, {'subvillage': 'unknown'}, {'public_meeting': True}, {'scheme_management': 'unknown'}, {'scheme_name': 'unknown'}, {'permit': True}]\n",
    "\n",
    "handle_nulls_inplace(train_values_processed, cols_to_fill)\n",
    "handle_nulls_inplace(test_values_processed, cols_to_fill)\n"
   ]
  },
  {
   "cell_type": "markdown",
   "metadata": {},
   "source": [
    "### Handing Zeros in Numeric Columns\n",
    "* No change needed\n",
    "    * latitude : No zeros\n",
    "    * region_code : No zeros\n",
    "* __Drop__  data\n",
    "    * num_private : ~98 of Train,  __DROP this COLUMN__ from Train and Test dataset.\n",
    "\n",
    "* Replace Zeros\n",
    "    * construction_year : ~35% of Train and ~35% of Test - Update zeros with the Average Construction Year.\n",
    "\n",
    "* Do nothing. These 0 values seem in line with data used on the Offical Tanzanian Water Point Mapping System (WPMS)  [http://wpm.maji.go.tz/]. I don't have enough context to know what to replace the zero values with.\n",
    "    * amount_tsh \n",
    "    * gps_height \n",
    "    * population \n"
   ]
  },
  {
   "cell_type": "code",
   "execution_count": 14,
   "metadata": {},
   "outputs": [],
   "source": [
    "# Functions for handling Zeros in Numeric columns\n",
    "\n",
    "def count_zeros(df, col_name):\n",
    "    return df[df[col_name]==0][col_name].count()\n"
   ]
  },
  {
   "cell_type": "code",
   "execution_count": 15,
   "metadata": {},
   "outputs": [
    {
     "output_type": "stream",
     "name": "stdout",
     "text": [
      "TRAIN: amount_tsh 41639\nTEST: amount_tsh 10410\nTRAIN: gps_height 20438\nTEST: gps_height 5211\nTRAIN: longitude 1812\nTEST: longitude 457\nTRAIN: num_private 58643\nTEST: num_private 14656\nTRAIN: district_code 23\nTEST: district_code 4\nTRAIN: population 21381\nTEST: population 5453\nTRAIN: construction_year 20709\nTEST: construction_year 5260\n"
     ]
    }
   ],
   "source": [
    "numeric_col_names = ['amount_tsh', 'gps_height', 'latitude', 'longitude', 'num_private', 'region_code', 'district_code', 'population', 'construction_year']\n",
    "\n",
    "for col_name in numeric_col_names:\n",
    "    the_train_count = count_zeros(train_values_processed, col_name)\n",
    "    the_test_count = count_zeros(test_values_processed, col_name)\n",
    "    if(the_test_count + the_train_count > 0):\n",
    "        print('TRAIN:', col_name, the_train_count)\n",
    "        print('TEST:', col_name, the_test_count)"
   ]
  },
  {
   "cell_type": "code",
   "execution_count": 16,
   "metadata": {},
   "outputs": [],
   "source": [
    "# Drop the num_private COLUMN\n",
    "train_values_processed.drop('num_private', axis=1, inplace=True)\n",
    "test_values_processed.drop('num_private', axis=1, inplace=True)"
   ]
  },
  {
   "cell_type": "code",
   "execution_count": 17,
   "metadata": {},
   "outputs": [],
   "source": [
    "\n",
    "# Drop the rows with 0 longitude\n",
    "train_indices_long = train_values_processed[train_values_processed['longitude'] == 0 ].index\n",
    "#test_indices_long = test_values_processed[test_values_processed['longitude'] == 0 ].index\n",
    "train_values_processed.drop(train_indices_long, inplace=True)\n",
    "#test_values_processed.drop(test_indices_long, inplace=True)\n",
    "\n",
    "# drop the rows with 0 district_code\n",
    "train_indices_distric_code = train_values_processed[train_values_processed['district_code'] == 0 ].index\n",
    "#test_indices_distric_code = test_values_processed[test_values_processed['district_code'] == 0 ].index\n",
    "train_values_processed.drop(train_indices_distric_code, inplace=True)\n",
    "#test_values_processed.drop(test_indices_distric_code, inplace=True)\n"
   ]
  },
  {
   "cell_type": "code",
   "execution_count": 18,
   "metadata": {},
   "outputs": [
    {
     "output_type": "stream",
     "name": "stdout",
     "text": [
      "1997\n1997\n"
     ]
    }
   ],
   "source": [
    "# Get the average construction year for TRAIN and TEST\n",
    "known_const_year_rows = train_values_processed[train_values_processed['construction_year']>0]\n",
    "avg_counstruction_year = int(known_const_year_rows['construction_year'].mean().round())\n",
    "print(avg_counstruction_year)\n",
    "\n",
    "test_known_const_year_rows = test_values_processed[test_values_processed['construction_year']>0]\n",
    "test_avg_counstruction_year = int(test_known_const_year_rows['construction_year'].mean().round())\n",
    "print(test_avg_counstruction_year)"
   ]
  },
  {
   "cell_type": "code",
   "execution_count": 19,
   "metadata": {},
   "outputs": [],
   "source": [
    "# Set construction_year to the average construction year where that value is 0\n",
    "train_values_processed['construction_year'] = train_values_processed.apply(lambda row: avg_counstruction_year if row['construction_year'] == 0 else row['construction_year'], axis=1)\n",
    "test_values_processed['construction_year'] = test_values_processed.apply(lambda row: test_avg_counstruction_year if row['construction_year'] == 0 else row['construction_year'], axis=1)"
   ]
  },
  {
   "cell_type": "markdown",
   "metadata": {},
   "source": [
    "### Normalize String columns - all to lower case\n",
    "\n",
    "* funder - Who funded the well\n",
    "* installer - Organization that installed the well\n",
    "* wpt_name - Name of the waterpoint if there is one\n",
    "* basin - Geographic water basin\n",
    "* subvillage - Geographic location\n",
    "* region - Geographic location\n",
    "* lga - Geographic location\n",
    "* ward - Geographic location\n",
    "* recorded_by - Group entering this row of data\n",
    "* scheme_management - Who operates the waterpoint\n",
    "* scheme_name - Who operates the waterpoint\n",
    "* extraction_type - The kind of extraction the waterpoint uses\n",
    "* extraction_type_group - The kind of extraction the waterpoint uses\n",
    "* extraction_type_class - The kind of extraction the waterpoint uses\n",
    "* management - How the waterpoint is managed\n",
    "* management_group - How the waterpoint is managed\n",
    "* payment_type - What the water costs\n",
    "* payment_type - What the water costs\n",
    "* water_quality - The quality of the water\n",
    "* quality_group - The quality of the water\n",
    "* quantity - The quantity of water\n",
    "* quantity_group - The quantity of water\n",
    "* source - The source of the water\n",
    "* source_type - The source of the water\n",
    "* source_class - The source of the water\n",
    "* waterpoint_type - The kind of waterpoint\n",
    "* waterpoint_type_group - The kind of waterpoin\n"
   ]
  },
  {
   "cell_type": "code",
   "execution_count": 20,
   "metadata": {},
   "outputs": [],
   "source": [
    "# Normalize String values function(s)\n",
    "def normalize_strings(df, col_name):\n",
    "     df[col_name] = df.apply(lambda row: row[col_name].lower(), axis=1)"
   ]
  },
  {
   "cell_type": "code",
   "execution_count": 21,
   "metadata": {},
   "outputs": [],
   "source": [
    "\n",
    "string_col_names = ['funder', 'installer', 'wpt_name', 'basin', 'subvillage', 'region', 'lga', 'ward', 'recorded_by','scheme_management','scheme_name', 'extraction_type', 'extraction_type_group', 'extraction_type_class', 'management', 'management_group', 'payment', 'payment_type', 'water_quality', 'quality_group', 'quantity', 'quantity_group', 'source', 'source_type' , 'source_class', 'waterpoint_type', 'waterpoint_type_group']\n",
    "\n",
    "for col_name in string_col_names:\n",
    "    normalize_strings(train_values_processed, col_name)\n",
    "    normalize_strings(test_values_processed, col_name)\n"
   ]
  },
  {
   "cell_type": "markdown",
   "metadata": {},
   "source": [
    "### New Columns/Feature creation for EDA - TRAINING dataset ONLY\n",
    "* recorded_year -  Pulling out the year from date_recorded\n",
    "* waterpoint_age - Calculate as recorded_year - construction_year\n",
    "* recorded_good_quality - True if quality_group == 'good', False if  anything other than 'good'\n",
    "* recorded_good_quantity - True if quanity_group == 'sufficient', False if anythign other than 'sufficient'\n"
   ]
  },
  {
   "cell_type": "code",
   "execution_count": 22,
   "metadata": {},
   "outputs": [],
   "source": [
    "# Functions for creating new features\n",
    "def get_recorded_year(recorded_date_string):\n",
    "    year = 0\n",
    "    date_segs = recorded_date_string.split('-')\n",
    "    if((len(date_segs) == 3) & (len(date_segs[0]) == 4)):\n",
    "        try:\n",
    "            year = int(date_segs[0])\n",
    "        except:\n",
    "            print(\"Not a valid year format.\") \n",
    "    return year\n",
    "\n",
    "\n",
    "def get_waterpoint_age(recorded_year, constructed_year):\n",
    "    age = 0\n",
    "    is_logical_year = constructed_year > 0\n",
    "    is_logical_age = recorded_year > constructed_year\n",
    "    if (is_logical_year & is_logical_age):\n",
    "        age = recorded_year - constructed_year\n",
    "    return age\n",
    "\n",
    "\n",
    "def get_recorded_good_quality(quality_group):\n",
    "    result = False\n",
    "    if ('good' == quality_group):\n",
    "        result = True\n",
    "    return result\n",
    "\n",
    "\n",
    "def get_recorded_good_quanity(quanity_group):\n",
    "    result = False\n",
    "    if ('enough' == quanity_group):\n",
    "        result = True\n",
    "    return result\n",
    "        "
   ]
  },
  {
   "cell_type": "code",
   "execution_count": 23,
   "metadata": {},
   "outputs": [],
   "source": [
    "# recorded_year\n",
    "train_values_processed['recorded_year'] = train_values_processed.apply(lambda row: get_recorded_year(row['date_recorded']), axis=1)\n"
   ]
  },
  {
   "cell_type": "code",
   "execution_count": 24,
   "metadata": {
    "tags": []
   },
   "outputs": [],
   "source": [
    "# waterpoint_age\n",
    "train_values_processed['waterpoint_age'] = train_values_processed.apply(lambda row: get_waterpoint_age(row['recorded_year'],row['construction_year']), axis=1)\n"
   ]
  },
  {
   "cell_type": "code",
   "execution_count": 25,
   "metadata": {},
   "outputs": [],
   "source": [
    "# recorded_good_quality\n",
    "train_values_processed['recorded_good_quality'] = train_values_processed.apply(lambda row: get_recorded_good_quality(row['quality_group']), axis=1)\n"
   ]
  },
  {
   "cell_type": "code",
   "execution_count": 26,
   "metadata": {},
   "outputs": [],
   "source": [
    "# recorded_good_quanity\n",
    "train_values_processed['recorded_good_quantity'] = train_values_processed.apply(lambda row: get_recorded_good_quanity(row['quantity_group']), axis=1)\n"
   ]
  },
  {
   "cell_type": "markdown",
   "metadata": {},
   "source": [
    "## Final Prep\n",
    "* Add the class labels to the TRAINING dataset\n",
    "* Save both cleaned TRAINING and TEST to file for use in EDA and Classifer Modeling\n"
   ]
  },
  {
   "cell_type": "code",
   "execution_count": 27,
   "metadata": {},
   "outputs": [],
   "source": [
    "train_values_processed_and_labeled = pd.merge(train_values_processed, train_targets, on='id')"
   ]
  },
  {
   "cell_type": "code",
   "execution_count": 28,
   "metadata": {},
   "outputs": [],
   "source": [
    "train_values_processed_and_labeled.to_csv('../data/train_processed_labeled.csv', index=False)\n",
    "test_values_processed.to_csv('../data/test_processed.csv', index=False)"
   ]
  },
  {
   "cell_type": "code",
   "execution_count": 29,
   "metadata": {},
   "outputs": [
    {
     "output_type": "execute_result",
     "data": {
      "text/plain": [
       "(57565, 44)"
      ]
     },
     "metadata": {},
     "execution_count": 29
    }
   ],
   "source": [
    "train_values_processed_and_labeled.shape"
   ]
  },
  {
   "cell_type": "code",
   "execution_count": 30,
   "metadata": {},
   "outputs": [
    {
     "output_type": "execute_result",
     "data": {
      "text/plain": [
       "(14850, 39)"
      ]
     },
     "metadata": {},
     "execution_count": 30
    }
   ],
   "source": [
    "test_values_processed.shape"
   ]
  },
  {
   "cell_type": "code",
   "execution_count": 31,
   "metadata": {},
   "outputs": [
    {
     "output_type": "execute_result",
     "data": {
      "text/plain": [
       "             id  amount_tsh  gps_height  longitude  latitude  region_code  \\\n",
       "count 57,565.00   57,565.00   57,565.00  57,565.00 57,565.00    57,565.00   \n",
       "mean  37,108.80      327.78      689.60      35.15     -5.89        15.22   \n",
       "std   21,454.23    3,044.43      693.57       2.61      2.81        17.86   \n",
       "min        0.00        0.00      -90.00      29.61    -11.65         1.00   \n",
       "25%   18,528.00        0.00        0.00      33.28     -8.65         5.00   \n",
       "50%   37,057.00        0.00      427.00      35.00     -5.17        12.00   \n",
       "75%   55,669.00       30.00    1,332.00      37.23     -3.37        17.00   \n",
       "max   74,247.00  350,000.00    2,770.00      40.35     -1.00        99.00   \n",
       "\n",
       "       district_code  population  construction_year  recorded_year  \\\n",
       "count      57,565.00   57,565.00          57,565.00      57,565.00   \n",
       "mean            5.73      185.64           1,996.88       2,011.92   \n",
       "std             9.76      477.83              10.23           0.96   \n",
       "min             1.00        0.00           1,960.00       2,002.00   \n",
       "25%             2.00        0.00           1,995.00       2,011.00   \n",
       "50%             3.00       35.00           1,997.00       2,012.00   \n",
       "75%             5.00      230.00           2,004.00       2,013.00   \n",
       "max            80.00   30,500.00           2,013.00       2,013.00   \n",
       "\n",
       "       waterpoint_age  \n",
       "count       57,565.00  \n",
       "mean            15.04  \n",
       "std             10.26  \n",
       "min              0.00  \n",
       "25%              7.00  \n",
       "50%             14.00  \n",
       "75%             17.00  \n",
       "max             53.00  "
      ],
      "text/html": "<div>\n<style scoped>\n    .dataframe tbody tr th:only-of-type {\n        vertical-align: middle;\n    }\n\n    .dataframe tbody tr th {\n        vertical-align: top;\n    }\n\n    .dataframe thead th {\n        text-align: right;\n    }\n</style>\n<table border=\"1\" class=\"dataframe\">\n  <thead>\n    <tr style=\"text-align: right;\">\n      <th></th>\n      <th>id</th>\n      <th>amount_tsh</th>\n      <th>gps_height</th>\n      <th>longitude</th>\n      <th>latitude</th>\n      <th>region_code</th>\n      <th>district_code</th>\n      <th>population</th>\n      <th>construction_year</th>\n      <th>recorded_year</th>\n      <th>waterpoint_age</th>\n    </tr>\n  </thead>\n  <tbody>\n    <tr>\n      <th>count</th>\n      <td>57,565.00</td>\n      <td>57,565.00</td>\n      <td>57,565.00</td>\n      <td>57,565.00</td>\n      <td>57,565.00</td>\n      <td>57,565.00</td>\n      <td>57,565.00</td>\n      <td>57,565.00</td>\n      <td>57,565.00</td>\n      <td>57,565.00</td>\n      <td>57,565.00</td>\n    </tr>\n    <tr>\n      <th>mean</th>\n      <td>37,108.80</td>\n      <td>327.78</td>\n      <td>689.60</td>\n      <td>35.15</td>\n      <td>-5.89</td>\n      <td>15.22</td>\n      <td>5.73</td>\n      <td>185.64</td>\n      <td>1,996.88</td>\n      <td>2,011.92</td>\n      <td>15.04</td>\n    </tr>\n    <tr>\n      <th>std</th>\n      <td>21,454.23</td>\n      <td>3,044.43</td>\n      <td>693.57</td>\n      <td>2.61</td>\n      <td>2.81</td>\n      <td>17.86</td>\n      <td>9.76</td>\n      <td>477.83</td>\n      <td>10.23</td>\n      <td>0.96</td>\n      <td>10.26</td>\n    </tr>\n    <tr>\n      <th>min</th>\n      <td>0.00</td>\n      <td>0.00</td>\n      <td>-90.00</td>\n      <td>29.61</td>\n      <td>-11.65</td>\n      <td>1.00</td>\n      <td>1.00</td>\n      <td>0.00</td>\n      <td>1,960.00</td>\n      <td>2,002.00</td>\n      <td>0.00</td>\n    </tr>\n    <tr>\n      <th>25%</th>\n      <td>18,528.00</td>\n      <td>0.00</td>\n      <td>0.00</td>\n      <td>33.28</td>\n      <td>-8.65</td>\n      <td>5.00</td>\n      <td>2.00</td>\n      <td>0.00</td>\n      <td>1,995.00</td>\n      <td>2,011.00</td>\n      <td>7.00</td>\n    </tr>\n    <tr>\n      <th>50%</th>\n      <td>37,057.00</td>\n      <td>0.00</td>\n      <td>427.00</td>\n      <td>35.00</td>\n      <td>-5.17</td>\n      <td>12.00</td>\n      <td>3.00</td>\n      <td>35.00</td>\n      <td>1,997.00</td>\n      <td>2,012.00</td>\n      <td>14.00</td>\n    </tr>\n    <tr>\n      <th>75%</th>\n      <td>55,669.00</td>\n      <td>30.00</td>\n      <td>1,332.00</td>\n      <td>37.23</td>\n      <td>-3.37</td>\n      <td>17.00</td>\n      <td>5.00</td>\n      <td>230.00</td>\n      <td>2,004.00</td>\n      <td>2,013.00</td>\n      <td>17.00</td>\n    </tr>\n    <tr>\n      <th>max</th>\n      <td>74,247.00</td>\n      <td>350,000.00</td>\n      <td>2,770.00</td>\n      <td>40.35</td>\n      <td>-1.00</td>\n      <td>99.00</td>\n      <td>80.00</td>\n      <td>30,500.00</td>\n      <td>2,013.00</td>\n      <td>2,013.00</td>\n      <td>53.00</td>\n    </tr>\n  </tbody>\n</table>\n</div>"
     },
     "metadata": {},
     "execution_count": 31
    }
   ],
   "source": [
    "train_values_processed.describe()"
   ]
  },
  {
   "cell_type": "code",
   "execution_count": 32,
   "metadata": {},
   "outputs": [
    {
     "output_type": "execute_result",
     "data": {
      "text/plain": [
       "             id  amount_tsh  gps_height  longitude  latitude  region_code  \\\n",
       "count 14,850.00   14,850.00   14,850.00  14,850.00 14,850.00    14,850.00   \n",
       "mean  37,161.97      322.83      655.15      34.06     -5.68        15.14   \n",
       "std   21,359.36    2,510.97      691.26       6.59      2.94        17.19   \n",
       "min       10.00        0.00      -57.00       0.00    -11.56         1.00   \n",
       "25%   18,727.00        0.00        0.00      33.07     -8.44         5.00   \n",
       "50%   37,361.50        0.00      344.00      34.90     -5.05        12.00   \n",
       "75%   55,799.75       25.00    1,308.00      37.20     -3.32        17.00   \n",
       "max   74,249.00  200,000.00    2,777.00      40.33     -0.00        99.00   \n",
       "\n",
       "       district_code  population  construction_year  \n",
       "count      14,850.00   14,850.00          14,850.00  \n",
       "mean            5.63      184.11           1,997.06  \n",
       "std             9.67      469.50               9.89  \n",
       "min             0.00        0.00           1,960.00  \n",
       "25%             2.00        0.00           1,996.00  \n",
       "50%             3.00       20.00           1,997.00  \n",
       "75%             5.00      220.00           2,004.00  \n",
       "max            80.00   11,469.00           2,013.00  "
      ],
      "text/html": "<div>\n<style scoped>\n    .dataframe tbody tr th:only-of-type {\n        vertical-align: middle;\n    }\n\n    .dataframe tbody tr th {\n        vertical-align: top;\n    }\n\n    .dataframe thead th {\n        text-align: right;\n    }\n</style>\n<table border=\"1\" class=\"dataframe\">\n  <thead>\n    <tr style=\"text-align: right;\">\n      <th></th>\n      <th>id</th>\n      <th>amount_tsh</th>\n      <th>gps_height</th>\n      <th>longitude</th>\n      <th>latitude</th>\n      <th>region_code</th>\n      <th>district_code</th>\n      <th>population</th>\n      <th>construction_year</th>\n    </tr>\n  </thead>\n  <tbody>\n    <tr>\n      <th>count</th>\n      <td>14,850.00</td>\n      <td>14,850.00</td>\n      <td>14,850.00</td>\n      <td>14,850.00</td>\n      <td>14,850.00</td>\n      <td>14,850.00</td>\n      <td>14,850.00</td>\n      <td>14,850.00</td>\n      <td>14,850.00</td>\n    </tr>\n    <tr>\n      <th>mean</th>\n      <td>37,161.97</td>\n      <td>322.83</td>\n      <td>655.15</td>\n      <td>34.06</td>\n      <td>-5.68</td>\n      <td>15.14</td>\n      <td>5.63</td>\n      <td>184.11</td>\n      <td>1,997.06</td>\n    </tr>\n    <tr>\n      <th>std</th>\n      <td>21,359.36</td>\n      <td>2,510.97</td>\n      <td>691.26</td>\n      <td>6.59</td>\n      <td>2.94</td>\n      <td>17.19</td>\n      <td>9.67</td>\n      <td>469.50</td>\n      <td>9.89</td>\n    </tr>\n    <tr>\n      <th>min</th>\n      <td>10.00</td>\n      <td>0.00</td>\n      <td>-57.00</td>\n      <td>0.00</td>\n      <td>-11.56</td>\n      <td>1.00</td>\n      <td>0.00</td>\n      <td>0.00</td>\n      <td>1,960.00</td>\n    </tr>\n    <tr>\n      <th>25%</th>\n      <td>18,727.00</td>\n      <td>0.00</td>\n      <td>0.00</td>\n      <td>33.07</td>\n      <td>-8.44</td>\n      <td>5.00</td>\n      <td>2.00</td>\n      <td>0.00</td>\n      <td>1,996.00</td>\n    </tr>\n    <tr>\n      <th>50%</th>\n      <td>37,361.50</td>\n      <td>0.00</td>\n      <td>344.00</td>\n      <td>34.90</td>\n      <td>-5.05</td>\n      <td>12.00</td>\n      <td>3.00</td>\n      <td>20.00</td>\n      <td>1,997.00</td>\n    </tr>\n    <tr>\n      <th>75%</th>\n      <td>55,799.75</td>\n      <td>25.00</td>\n      <td>1,308.00</td>\n      <td>37.20</td>\n      <td>-3.32</td>\n      <td>17.00</td>\n      <td>5.00</td>\n      <td>220.00</td>\n      <td>2,004.00</td>\n    </tr>\n    <tr>\n      <th>max</th>\n      <td>74,249.00</td>\n      <td>200,000.00</td>\n      <td>2,777.00</td>\n      <td>40.33</td>\n      <td>-0.00</td>\n      <td>99.00</td>\n      <td>80.00</td>\n      <td>11,469.00</td>\n      <td>2,013.00</td>\n    </tr>\n  </tbody>\n</table>\n</div>"
     },
     "metadata": {},
     "execution_count": 32
    }
   ],
   "source": [
    "test_values_processed.describe()"
   ]
  },
  {
   "cell_type": "code",
   "execution_count": null,
   "metadata": {},
   "outputs": [],
   "source": []
  },
  {
   "cell_type": "code",
   "execution_count": null,
   "metadata": {},
   "outputs": [],
   "source": []
  }
 ],
 "metadata": {
  "kernelspec": {
   "display_name": "flatiron",
   "language": "python",
   "name": "flatiron"
  },
  "language_info": {
   "codemirror_mode": {
    "name": "ipython",
    "version": 3
   },
   "file_extension": ".py",
   "mimetype": "text/x-python",
   "name": "python",
   "nbconvert_exporter": "python",
   "pygments_lexer": "ipython3",
   "version": "3.6.9-final"
  }
 },
 "nbformat": 4,
 "nbformat_minor": 2
}