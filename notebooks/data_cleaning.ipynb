{
 "cells": [
  {
   "cell_type": "markdown",
   "metadata": {},
   "source": [
    "# Data Cleaning Notebook"
   ]
  },
  {
   "cell_type": "code",
   "execution_count": 1,
   "metadata": {},
   "outputs": [],
   "source": [
    "# Import the required libraries\n",
    "import pandas as pd\n",
    "import numpy as np\n",
    "\n",
    "# set up pandas to display floats in a more human friendly way\n",
    "pd.options.display.float_format = '{:,.2f}'.format"
   ]
  },
  {
   "cell_type": "markdown",
   "metadata": {},
   "source": [
    "### Original training data files downloaded from data source were split between values and labels. \n",
    "#### Step 1: Conduct data cleaning USING FUNCTIONS on the Training and Test Files\n",
    "#### Step 2: Combine the Training values and labels into a single file for use in model training."
   ]
  },
  {
   "cell_type": "code",
   "execution_count": 2,
   "metadata": {},
   "outputs": [
    {
     "output_type": "execute_result",
     "data": {
      "text/plain": [
       "      id  amount_tsh date_recorded        funder  gps_height     installer  \\\n",
       "0  69572    6,000.00    2011-03-14         Roman        1390         Roman   \n",
       "1   8776        0.00    2013-03-06       Grumeti        1399       GRUMETI   \n",
       "2  34310       25.00    2013-02-25  Lottery Club         686  World vision   \n",
       "\n",
       "   longitude  latitude     wpt_name  num_private  ... payment_type  \\\n",
       "0      34.94     -9.86         none            0  ...     annually   \n",
       "1      34.70     -2.15     Zahanati            0  ...    never pay   \n",
       "2      37.46     -3.82  Kwa Mahundi            0  ...   per bucket   \n",
       "\n",
       "  water_quality quality_group      quantity  quantity_group  \\\n",
       "0          soft          good        enough          enough   \n",
       "1          soft          good  insufficient    insufficient   \n",
       "2          soft          good        enough          enough   \n",
       "\n",
       "                 source           source_type  source_class  \\\n",
       "0                spring                spring   groundwater   \n",
       "1  rainwater harvesting  rainwater harvesting       surface   \n",
       "2                   dam                   dam       surface   \n",
       "\n",
       "               waterpoint_type waterpoint_type_group  \n",
       "0           communal standpipe    communal standpipe  \n",
       "1           communal standpipe    communal standpipe  \n",
       "2  communal standpipe multiple    communal standpipe  \n",
       "\n",
       "[3 rows x 40 columns]"
      ],
      "text/html": "<div>\n<style scoped>\n    .dataframe tbody tr th:only-of-type {\n        vertical-align: middle;\n    }\n\n    .dataframe tbody tr th {\n        vertical-align: top;\n    }\n\n    .dataframe thead th {\n        text-align: right;\n    }\n</style>\n<table border=\"1\" class=\"dataframe\">\n  <thead>\n    <tr style=\"text-align: right;\">\n      <th></th>\n      <th>id</th>\n      <th>amount_tsh</th>\n      <th>date_recorded</th>\n      <th>funder</th>\n      <th>gps_height</th>\n      <th>installer</th>\n      <th>longitude</th>\n      <th>latitude</th>\n      <th>wpt_name</th>\n      <th>num_private</th>\n      <th>...</th>\n      <th>payment_type</th>\n      <th>water_quality</th>\n      <th>quality_group</th>\n      <th>quantity</th>\n      <th>quantity_group</th>\n      <th>source</th>\n      <th>source_type</th>\n      <th>source_class</th>\n      <th>waterpoint_type</th>\n      <th>waterpoint_type_group</th>\n    </tr>\n  </thead>\n  <tbody>\n    <tr>\n      <th>0</th>\n      <td>69572</td>\n      <td>6,000.00</td>\n      <td>2011-03-14</td>\n      <td>Roman</td>\n      <td>1390</td>\n      <td>Roman</td>\n      <td>34.94</td>\n      <td>-9.86</td>\n      <td>none</td>\n      <td>0</td>\n      <td>...</td>\n      <td>annually</td>\n      <td>soft</td>\n      <td>good</td>\n      <td>enough</td>\n      <td>enough</td>\n      <td>spring</td>\n      <td>spring</td>\n      <td>groundwater</td>\n      <td>communal standpipe</td>\n      <td>communal standpipe</td>\n    </tr>\n    <tr>\n      <th>1</th>\n      <td>8776</td>\n      <td>0.00</td>\n      <td>2013-03-06</td>\n      <td>Grumeti</td>\n      <td>1399</td>\n      <td>GRUMETI</td>\n      <td>34.70</td>\n      <td>-2.15</td>\n      <td>Zahanati</td>\n      <td>0</td>\n      <td>...</td>\n      <td>never pay</td>\n      <td>soft</td>\n      <td>good</td>\n      <td>insufficient</td>\n      <td>insufficient</td>\n      <td>rainwater harvesting</td>\n      <td>rainwater harvesting</td>\n      <td>surface</td>\n      <td>communal standpipe</td>\n      <td>communal standpipe</td>\n    </tr>\n    <tr>\n      <th>2</th>\n      <td>34310</td>\n      <td>25.00</td>\n      <td>2013-02-25</td>\n      <td>Lottery Club</td>\n      <td>686</td>\n      <td>World vision</td>\n      <td>37.46</td>\n      <td>-3.82</td>\n      <td>Kwa Mahundi</td>\n      <td>0</td>\n      <td>...</td>\n      <td>per bucket</td>\n      <td>soft</td>\n      <td>good</td>\n      <td>enough</td>\n      <td>enough</td>\n      <td>dam</td>\n      <td>dam</td>\n      <td>surface</td>\n      <td>communal standpipe multiple</td>\n      <td>communal standpipe</td>\n    </tr>\n  </tbody>\n</table>\n<p>3 rows × 40 columns</p>\n</div>"
     },
     "metadata": {},
     "execution_count": 2
    }
   ],
   "source": [
    "# TRAINING DATA\n",
    "train_values_raw = pd.read_csv('../data/original/TrainingSetValues/4910797b-ee55-40a7-8668-10efd5c1b960.csv')\n",
    "train_values_raw.head(3)"
   ]
  },
  {
   "cell_type": "code",
   "execution_count": 3,
   "metadata": {},
   "outputs": [
    {
     "output_type": "execute_result",
     "data": {
      "text/plain": [
       "             id  amount_tsh  gps_height  longitude  latitude  num_private  \\\n",
       "count 59,400.00   59,400.00   59,400.00  59,400.00 59,400.00    59,400.00   \n",
       "mean  37,115.13      317.65      668.30      34.08     -5.71         0.47   \n",
       "std   21,453.13    2,997.57      693.12       6.57      2.95        12.24   \n",
       "min        0.00        0.00      -90.00       0.00    -11.65         0.00   \n",
       "25%   18,519.75        0.00        0.00      33.09     -8.54         0.00   \n",
       "50%   37,061.50        0.00      369.00      34.91     -5.02         0.00   \n",
       "75%   55,656.50       20.00    1,319.25      37.18     -3.33         0.00   \n",
       "max   74,247.00  350,000.00    2,770.00      40.35     -0.00     1,776.00   \n",
       "\n",
       "       region_code  district_code  population  construction_year  \n",
       "count    59,400.00      59,400.00   59,400.00          59,400.00  \n",
       "mean         15.30           5.63      179.91           1,300.65  \n",
       "std          17.59           9.63      471.48             951.62  \n",
       "min           1.00           0.00        0.00               0.00  \n",
       "25%           5.00           2.00        0.00               0.00  \n",
       "50%          12.00           3.00       25.00           1,986.00  \n",
       "75%          17.00           5.00      215.00           2,004.00  \n",
       "max          99.00          80.00   30,500.00           2,013.00  "
      ],
      "text/html": "<div>\n<style scoped>\n    .dataframe tbody tr th:only-of-type {\n        vertical-align: middle;\n    }\n\n    .dataframe tbody tr th {\n        vertical-align: top;\n    }\n\n    .dataframe thead th {\n        text-align: right;\n    }\n</style>\n<table border=\"1\" class=\"dataframe\">\n  <thead>\n    <tr style=\"text-align: right;\">\n      <th></th>\n      <th>id</th>\n      <th>amount_tsh</th>\n      <th>gps_height</th>\n      <th>longitude</th>\n      <th>latitude</th>\n      <th>num_private</th>\n      <th>region_code</th>\n      <th>district_code</th>\n      <th>population</th>\n      <th>construction_year</th>\n    </tr>\n  </thead>\n  <tbody>\n    <tr>\n      <th>count</th>\n      <td>59,400.00</td>\n      <td>59,400.00</td>\n      <td>59,400.00</td>\n      <td>59,400.00</td>\n      <td>59,400.00</td>\n      <td>59,400.00</td>\n      <td>59,400.00</td>\n      <td>59,400.00</td>\n      <td>59,400.00</td>\n      <td>59,400.00</td>\n    </tr>\n    <tr>\n      <th>mean</th>\n      <td>37,115.13</td>\n      <td>317.65</td>\n      <td>668.30</td>\n      <td>34.08</td>\n      <td>-5.71</td>\n      <td>0.47</td>\n      <td>15.30</td>\n      <td>5.63</td>\n      <td>179.91</td>\n      <td>1,300.65</td>\n    </tr>\n    <tr>\n      <th>std</th>\n      <td>21,453.13</td>\n      <td>2,997.57</td>\n      <td>693.12</td>\n      <td>6.57</td>\n      <td>2.95</td>\n      <td>12.24</td>\n      <td>17.59</td>\n      <td>9.63</td>\n      <td>471.48</td>\n      <td>951.62</td>\n    </tr>\n    <tr>\n      <th>min</th>\n      <td>0.00</td>\n      <td>0.00</td>\n      <td>-90.00</td>\n      <td>0.00</td>\n      <td>-11.65</td>\n      <td>0.00</td>\n      <td>1.00</td>\n      <td>0.00</td>\n      <td>0.00</td>\n      <td>0.00</td>\n    </tr>\n    <tr>\n      <th>25%</th>\n      <td>18,519.75</td>\n      <td>0.00</td>\n      <td>0.00</td>\n      <td>33.09</td>\n      <td>-8.54</td>\n      <td>0.00</td>\n      <td>5.00</td>\n      <td>2.00</td>\n      <td>0.00</td>\n      <td>0.00</td>\n    </tr>\n    <tr>\n      <th>50%</th>\n      <td>37,061.50</td>\n      <td>0.00</td>\n      <td>369.00</td>\n      <td>34.91</td>\n      <td>-5.02</td>\n      <td>0.00</td>\n      <td>12.00</td>\n      <td>3.00</td>\n      <td>25.00</td>\n      <td>1,986.00</td>\n    </tr>\n    <tr>\n      <th>75%</th>\n      <td>55,656.50</td>\n      <td>20.00</td>\n      <td>1,319.25</td>\n      <td>37.18</td>\n      <td>-3.33</td>\n      <td>0.00</td>\n      <td>17.00</td>\n      <td>5.00</td>\n      <td>215.00</td>\n      <td>2,004.00</td>\n    </tr>\n    <tr>\n      <th>max</th>\n      <td>74,247.00</td>\n      <td>350,000.00</td>\n      <td>2,770.00</td>\n      <td>40.35</td>\n      <td>-0.00</td>\n      <td>1,776.00</td>\n      <td>99.00</td>\n      <td>80.00</td>\n      <td>30,500.00</td>\n      <td>2,013.00</td>\n    </tr>\n  </tbody>\n</table>\n</div>"
     },
     "metadata": {},
     "execution_count": 3
    }
   ],
   "source": [
    "train_values_raw.describe()"
   ]
  },
  {
   "cell_type": "code",
   "execution_count": 4,
   "metadata": {},
   "outputs": [
    {
     "output_type": "execute_result",
     "data": {
      "text/plain": [
       "      id  amount_tsh date_recorded                  funder  gps_height  \\\n",
       "0  50785        0.00    2013-02-04                    Dmdd        1996   \n",
       "1  51630        0.00    2013-02-04  Government Of Tanzania        1569   \n",
       "2  17168        0.00    2013-02-01                     NaN        1567   \n",
       "\n",
       "  installer  longitude  latitude                 wpt_name  num_private  ...  \\\n",
       "0      DMDD      35.29     -4.06  Dinamu Secondary School            0  ...   \n",
       "1       DWE      36.66     -3.31                  Kimnyak            0  ...   \n",
       "2       NaN      34.77     -5.00           Puma Secondary            0  ...   \n",
       "\n",
       "  payment_type water_quality quality_group      quantity  quantity_group  \\\n",
       "0    never pay          soft          good      seasonal        seasonal   \n",
       "1    never pay          soft          good  insufficient    insufficient   \n",
       "2    never pay          soft          good  insufficient    insufficient   \n",
       "\n",
       "                 source           source_type  source_class  \\\n",
       "0  rainwater harvesting  rainwater harvesting       surface   \n",
       "1                spring                spring   groundwater   \n",
       "2  rainwater harvesting  rainwater harvesting       surface   \n",
       "\n",
       "      waterpoint_type waterpoint_type_group  \n",
       "0               other                 other  \n",
       "1  communal standpipe    communal standpipe  \n",
       "2               other                 other  \n",
       "\n",
       "[3 rows x 40 columns]"
      ],
      "text/html": "<div>\n<style scoped>\n    .dataframe tbody tr th:only-of-type {\n        vertical-align: middle;\n    }\n\n    .dataframe tbody tr th {\n        vertical-align: top;\n    }\n\n    .dataframe thead th {\n        text-align: right;\n    }\n</style>\n<table border=\"1\" class=\"dataframe\">\n  <thead>\n    <tr style=\"text-align: right;\">\n      <th></th>\n      <th>id</th>\n      <th>amount_tsh</th>\n      <th>date_recorded</th>\n      <th>funder</th>\n      <th>gps_height</th>\n      <th>installer</th>\n      <th>longitude</th>\n      <th>latitude</th>\n      <th>wpt_name</th>\n      <th>num_private</th>\n      <th>...</th>\n      <th>payment_type</th>\n      <th>water_quality</th>\n      <th>quality_group</th>\n      <th>quantity</th>\n      <th>quantity_group</th>\n      <th>source</th>\n      <th>source_type</th>\n      <th>source_class</th>\n      <th>waterpoint_type</th>\n      <th>waterpoint_type_group</th>\n    </tr>\n  </thead>\n  <tbody>\n    <tr>\n      <th>0</th>\n      <td>50785</td>\n      <td>0.00</td>\n      <td>2013-02-04</td>\n      <td>Dmdd</td>\n      <td>1996</td>\n      <td>DMDD</td>\n      <td>35.29</td>\n      <td>-4.06</td>\n      <td>Dinamu Secondary School</td>\n      <td>0</td>\n      <td>...</td>\n      <td>never pay</td>\n      <td>soft</td>\n      <td>good</td>\n      <td>seasonal</td>\n      <td>seasonal</td>\n      <td>rainwater harvesting</td>\n      <td>rainwater harvesting</td>\n      <td>surface</td>\n      <td>other</td>\n      <td>other</td>\n    </tr>\n    <tr>\n      <th>1</th>\n      <td>51630</td>\n      <td>0.00</td>\n      <td>2013-02-04</td>\n      <td>Government Of Tanzania</td>\n      <td>1569</td>\n      <td>DWE</td>\n      <td>36.66</td>\n      <td>-3.31</td>\n      <td>Kimnyak</td>\n      <td>0</td>\n      <td>...</td>\n      <td>never pay</td>\n      <td>soft</td>\n      <td>good</td>\n      <td>insufficient</td>\n      <td>insufficient</td>\n      <td>spring</td>\n      <td>spring</td>\n      <td>groundwater</td>\n      <td>communal standpipe</td>\n      <td>communal standpipe</td>\n    </tr>\n    <tr>\n      <th>2</th>\n      <td>17168</td>\n      <td>0.00</td>\n      <td>2013-02-01</td>\n      <td>NaN</td>\n      <td>1567</td>\n      <td>NaN</td>\n      <td>34.77</td>\n      <td>-5.00</td>\n      <td>Puma Secondary</td>\n      <td>0</td>\n      <td>...</td>\n      <td>never pay</td>\n      <td>soft</td>\n      <td>good</td>\n      <td>insufficient</td>\n      <td>insufficient</td>\n      <td>rainwater harvesting</td>\n      <td>rainwater harvesting</td>\n      <td>surface</td>\n      <td>other</td>\n      <td>other</td>\n    </tr>\n  </tbody>\n</table>\n<p>3 rows × 40 columns</p>\n</div>"
     },
     "metadata": {},
     "execution_count": 4
    }
   ],
   "source": [
    "# TEST DATA \n",
    "test_values_raw = pd.read_csv('../data/original/TestSetValues/702ddfc5-68cd-4d1d-a0de-f5f566f76d91.csv')\n",
    "test_values_raw.head(3)"
   ]
  },
  {
   "cell_type": "code",
   "execution_count": 5,
   "metadata": {},
   "outputs": [
    {
     "output_type": "execute_result",
     "data": {
      "text/plain": [
       "             id  amount_tsh  gps_height  longitude  latitude  num_private  \\\n",
       "count 14,850.00   14,850.00   14,850.00  14,850.00 14,850.00    14,850.00   \n",
       "mean  37,161.97      322.83      655.15      34.06     -5.68         0.42   \n",
       "std   21,359.36    2,510.97      691.26       6.59      2.94         8.17   \n",
       "min       10.00        0.00      -57.00       0.00    -11.56         0.00   \n",
       "25%   18,727.00        0.00        0.00      33.07     -8.44         0.00   \n",
       "50%   37,361.50        0.00      344.00      34.90     -5.05         0.00   \n",
       "75%   55,799.75       25.00    1,308.00      37.20     -3.32         0.00   \n",
       "max   74,249.00  200,000.00    2,777.00      40.33     -0.00       669.00   \n",
       "\n",
       "       region_code  district_code  population  construction_year  \n",
       "count    14,850.00      14,850.00   14,850.00          14,850.00  \n",
       "mean         15.14           5.63      184.11           1,289.71  \n",
       "std          17.19           9.67      469.50             955.24  \n",
       "min           1.00           0.00        0.00               0.00  \n",
       "25%           5.00           2.00        0.00               0.00  \n",
       "50%          12.00           3.00       20.00           1,986.00  \n",
       "75%          17.00           5.00      220.00           2,004.00  \n",
       "max          99.00          80.00   11,469.00           2,013.00  "
      ],
      "text/html": "<div>\n<style scoped>\n    .dataframe tbody tr th:only-of-type {\n        vertical-align: middle;\n    }\n\n    .dataframe tbody tr th {\n        vertical-align: top;\n    }\n\n    .dataframe thead th {\n        text-align: right;\n    }\n</style>\n<table border=\"1\" class=\"dataframe\">\n  <thead>\n    <tr style=\"text-align: right;\">\n      <th></th>\n      <th>id</th>\n      <th>amount_tsh</th>\n      <th>gps_height</th>\n      <th>longitude</th>\n      <th>latitude</th>\n      <th>num_private</th>\n      <th>region_code</th>\n      <th>district_code</th>\n      <th>population</th>\n      <th>construction_year</th>\n    </tr>\n  </thead>\n  <tbody>\n    <tr>\n      <th>count</th>\n      <td>14,850.00</td>\n      <td>14,850.00</td>\n      <td>14,850.00</td>\n      <td>14,850.00</td>\n      <td>14,850.00</td>\n      <td>14,850.00</td>\n      <td>14,850.00</td>\n      <td>14,850.00</td>\n      <td>14,850.00</td>\n      <td>14,850.00</td>\n    </tr>\n    <tr>\n      <th>mean</th>\n      <td>37,161.97</td>\n      <td>322.83</td>\n      <td>655.15</td>\n      <td>34.06</td>\n      <td>-5.68</td>\n      <td>0.42</td>\n      <td>15.14</td>\n      <td>5.63</td>\n      <td>184.11</td>\n      <td>1,289.71</td>\n    </tr>\n    <tr>\n      <th>std</th>\n      <td>21,359.36</td>\n      <td>2,510.97</td>\n      <td>691.26</td>\n      <td>6.59</td>\n      <td>2.94</td>\n      <td>8.17</td>\n      <td>17.19</td>\n      <td>9.67</td>\n      <td>469.50</td>\n      <td>955.24</td>\n    </tr>\n    <tr>\n      <th>min</th>\n      <td>10.00</td>\n      <td>0.00</td>\n      <td>-57.00</td>\n      <td>0.00</td>\n      <td>-11.56</td>\n      <td>0.00</td>\n      <td>1.00</td>\n      <td>0.00</td>\n      <td>0.00</td>\n      <td>0.00</td>\n    </tr>\n    <tr>\n      <th>25%</th>\n      <td>18,727.00</td>\n      <td>0.00</td>\n      <td>0.00</td>\n      <td>33.07</td>\n      <td>-8.44</td>\n      <td>0.00</td>\n      <td>5.00</td>\n      <td>2.00</td>\n      <td>0.00</td>\n      <td>0.00</td>\n    </tr>\n    <tr>\n      <th>50%</th>\n      <td>37,361.50</td>\n      <td>0.00</td>\n      <td>344.00</td>\n      <td>34.90</td>\n      <td>-5.05</td>\n      <td>0.00</td>\n      <td>12.00</td>\n      <td>3.00</td>\n      <td>20.00</td>\n      <td>1,986.00</td>\n    </tr>\n    <tr>\n      <th>75%</th>\n      <td>55,799.75</td>\n      <td>25.00</td>\n      <td>1,308.00</td>\n      <td>37.20</td>\n      <td>-3.32</td>\n      <td>0.00</td>\n      <td>17.00</td>\n      <td>5.00</td>\n      <td>220.00</td>\n      <td>2,004.00</td>\n    </tr>\n    <tr>\n      <th>max</th>\n      <td>74,249.00</td>\n      <td>200,000.00</td>\n      <td>2,777.00</td>\n      <td>40.33</td>\n      <td>-0.00</td>\n      <td>669.00</td>\n      <td>99.00</td>\n      <td>80.00</td>\n      <td>11,469.00</td>\n      <td>2,013.00</td>\n    </tr>\n  </tbody>\n</table>\n</div>"
     },
     "metadata": {},
     "execution_count": 5
    }
   ],
   "source": [
    "test_values_raw.describe()"
   ]
  },
  {
   "cell_type": "markdown",
   "metadata": {},
   "source": [
    "## Column and Row Information\n",
    "* 40 columns/features in the raw data TRAINING and TEST\n",
    "* 59,400 rows in the TRAINING data\n",
    "* 14,850 rows in the TEST data"
   ]
  },
  {
   "cell_type": "code",
   "execution_count": 6,
   "metadata": {},
   "outputs": [
    {
     "output_type": "stream",
     "name": "stdout",
     "text": [
      "<class 'pandas.core.frame.DataFrame'>\nRangeIndex: 59400 entries, 0 to 59399\nData columns (total 2 columns):\n #   Column        Non-Null Count  Dtype \n---  ------        --------------  ----- \n 0   id            59400 non-null  int64 \n 1   status_group  59400 non-null  object\ndtypes: int64(1), object(1)\nmemory usage: 928.2+ KB\nNone\n"
     ]
    },
    {
     "output_type": "execute_result",
     "data": {
      "text/plain": [
       "      id status_group\n",
       "0  69572   functional\n",
       "1   8776   functional"
      ],
      "text/html": "<div>\n<style scoped>\n    .dataframe tbody tr th:only-of-type {\n        vertical-align: middle;\n    }\n\n    .dataframe tbody tr th {\n        vertical-align: top;\n    }\n\n    .dataframe thead th {\n        text-align: right;\n    }\n</style>\n<table border=\"1\" class=\"dataframe\">\n  <thead>\n    <tr style=\"text-align: right;\">\n      <th></th>\n      <th>id</th>\n      <th>status_group</th>\n    </tr>\n  </thead>\n  <tbody>\n    <tr>\n      <th>0</th>\n      <td>69572</td>\n      <td>functional</td>\n    </tr>\n    <tr>\n      <th>1</th>\n      <td>8776</td>\n      <td>functional</td>\n    </tr>\n  </tbody>\n</table>\n</div>"
     },
     "metadata": {},
     "execution_count": 6
    }
   ],
   "source": [
    "train_labels_raw = pd.read_csv('../data/original/TrainingSetLabels/0bf8bc6e-30d0-4c50-956a-603fc693d966.csv')\n",
    "print(train_labels_raw.info())\n",
    "train_labels_raw.head(2)"
   ]
  },
  {
   "cell_type": "markdown",
   "metadata": {},
   "source": [
    "## Original Data Column Descriptions\n",
    "\n",
    "* id - Numeric identifer for the waterpoint\n",
    "* amount_tsh - Total static head (amount water available to waterpoint)\n",
    "* date_recorded - The date the row was entered\n",
    "* funder - Who funded the well\n",
    "* gps_height - Altitude of the well\n",
    "* installer - Organization that installed the well\n",
    "* longitude - GPS coordinate\n",
    "* latitude - GPS coordinate\n",
    "* wpt_name - Name of the waterpoint if there is one\n",
    "* num_private -\n",
    "* basin - Geographic water basin\n",
    "* subvillage - Geographic location\n",
    "* region - Geographic location, NOTE: Hierarchy is Region > LGA > Ward\n",
    "* region_code - Geographic location (coded)\n",
    "* district_code - Geographic location (coded)\n",
    "* lga - Geographic location\n",
    "* ward - Geographic location\n",
    "* population - Population around the well\n",
    "* public_meeting - True/False\n",
    "* recorded_by - Group entering this row of data\n",
    "* scheme_management - Who operates the waterpoint\n",
    "* scheme_name - Who operates the waterpoint\n",
    "* permit - If the waterpoint is permitted\n",
    "* construction_year - Year the waterpoint was constructed\n",
    "* extraction_type - The kind of extraction the waterpoint uses\n",
    "* extraction_type_group - The kind of extraction the waterpoint uses\n",
    "* extraction_type_class - The kind of extraction the waterpoint uses\n",
    "* management - How the waterpoint is managed\n",
    "* management_group - How the waterpoint is managed\n",
    "* payment - What the water costs\n",
    "* payment_type - What the water costs\n",
    "* water_quality - The quality of the water\n",
    "* quality_group - The quality of the water\n",
    "* quantity - The quantity of water\n",
    "* quantity_group - The quantity of water\n",
    "* source - The source of the water\n",
    "* source_type - The source of the water\n",
    "* source_class - The source of the water\n",
    "* waterpoint_type - The kind of waterpoint\n",
    "* waterpoint_type_group - The kind of waterpoint\n",
    "\n"
   ]
  },
  {
   "cell_type": "markdown",
   "metadata": {},
   "source": [
    "## Data cleaning steps:\n",
    "* __Duplicate check__ \n",
    "\n",
    "* __Address Null Values__\n",
    "\n",
    "* __Address Zeros in Numeric Values__\n",
    "\n",
    "* __String type normalization__\n",
    " \n",
    "* __New column/feature creation__\n",
    "\n",
    "\n",
    "* __Note:__ No Data type conversions needed"
   ]
  },
  {
   "cell_type": "markdown",
   "metadata": {},
   "source": [
    "### Duplicate Check"
   ]
  },
  {
   "cell_type": "code",
   "execution_count": 7,
   "metadata": {},
   "outputs": [],
   "source": [
    "# Functions for Duplicate checks \n",
    "def has_exact_dups(df):\n",
    "    dups = df[df.duplicated()]\n",
    "    return len(dups) > 0\n",
    "\n",
    "def has_identifier_dups(df, col_name='id'):\n",
    "    num_rows = df.shape[0]\n",
    "    num_ids = len(df[col_name].unique())\n",
    "    return num_ids != num_rows"
   ]
  },
  {
   "cell_type": "code",
   "execution_count": 8,
   "metadata": {},
   "outputs": [
    {
     "output_type": "stream",
     "name": "stdout",
     "text": [
      "False\nFalse\nFalse\nFalse\n"
     ]
    }
   ],
   "source": [
    "#Dup checking\n",
    "print(has_exact_dups(train_values_raw))\n",
    "print(has_identifier_dups(train_values_raw))\n",
    "print(has_exact_dups(test_values_raw))\n",
    "print(has_identifier_dups(test_values_raw))"
   ]
  },
  {
   "cell_type": "markdown",
   "metadata": {},
   "source": [
    "### There are no exact duplicate rows nor duplicate identifers in the Training or Test datasets"
   ]
  },
  {
   "cell_type": "code",
   "execution_count": 9,
   "metadata": {},
   "outputs": [],
   "source": [
    "# Make a deep copy and do procesing on this dataframe moving forward\n",
    "# Deep copy has own copy of data and index.\n",
    "train_values_processed = train_values_raw.copy(deep=True)\n",
    "test_values_processed = test_values_raw.copy(deep=True)"
   ]
  },
  {
   "cell_type": "code",
   "execution_count": 10,
   "metadata": {},
   "outputs": [],
   "source": [
    "#Null handler functions\n",
    "def get_null_stats(df, col_name):\n",
    "    print(df[col_name].unique())\n",
    "    print(len(df[col_name].unique()))\n",
    "    print(df[col_name].isna().sum())\n",
    "\n",
    "\n",
    "def handle_nulls_inplace(df, cols_to_fill):\n",
    "    for item in cols_to_fill:\n",
    "        for key, value in item.items():\n",
    "            df[key].fillna(value, inplace=True)"
   ]
  },
  {
   "cell_type": "markdown",
   "metadata": {},
   "source": [
    "### Handling Null Values\n",
    "#### TRAINING and TEST columns with Null values:\n",
    "* funder : set to 'unknown' when null\n",
    "* installer : set to 'unknown' when null\n",
    "* subvillage : set to 'unknown' when null\n",
    "* public_meeting : set to True when null\n",
    "    * Training dataset: only 5055 out of 59,400 were False. 51,011 out of 59,4000 were True. \n",
    "    * Test dataset: only 1291 out of 14,850 were False, 12,738 out of 14,850 were True.\n",
    "    * As the vast majority of both Training and Test waterpoints have public_meeting of True, use True to replace all nulls.\n",
    "* scheme_management : set to 'unknown' when null\n",
    "* scheme_name : set to 'unknown' when null\n",
    "* permit : set to True when nulls\n",
    "    * Training dataset: 38,852 out of 59,4000 were True. 17,492 out of 59,4000 where False. \n",
    "    * Test dataset:  9754 out of 14,850 were True. 4359 out of 14,850 were False\n",
    "    * As the majority of both Training and Test waterpoints have public_meeting of True, use True to replace all nulls.\n"
   ]
  },
  {
   "cell_type": "code",
   "execution_count": 11,
   "metadata": {},
   "outputs": [],
   "source": [
    "cols_to_fill = [{'funder': 'unknown'}, {'installer': 'unknown'}, {'subvillage': 'unknown'}, {'public_meeting': True}, {'scheme_management': 'unknown'}, {'scheme_name': 'unknown'}, {'permit': True}]\n",
    "\n",
    "handle_nulls_inplace(train_values_processed, cols_to_fill)\n",
    "handle_nulls_inplace(test_values_processed, cols_to_fill)\n"
   ]
  },
  {
   "cell_type": "markdown",
   "metadata": {},
   "source": [
    "### Handing Zeros in Numeric Columns\n",
    "* No change needed\n",
    "    * latitude : No zeros\n",
    "    * region_code : No zeros\n",
    "* Drop data\n",
    "    * num_private : ~98 of Train,  DROP this COLUMN from Train and Test dataset\n",
    "    * longitude : ~3% of of Train and ~3% of Test, DROP these ROWS\n",
    "    * district_code : Very, very few (23 rows in Train and 4 in Test) have zeros. DROP these ROWS.\n",
    "\n",
    "* Replace Zeros\n",
    "    * construction_year : ~35% of Train and ~35% of Test - Update zeros with the Average Construction Year.\n",
    "\n",
    "* Do nothing. These 0 values seem in line with data used on the Offical Tanzanian Water Point Mapping System (WPMS)  [http://wpm.maji.go.tz/]\n",
    "    * amount_tsh : ~70% of Train were Zero: ??? Take the average of pumps of a similar type? \n",
    "    * gps_height : ~ 34% of Train were Zero: ???? Take the average of pumps with similar latitude?\n",
    "    * population : ~36% of Train and X of Test -  ???\n"
   ]
  },
  {
   "cell_type": "code",
   "execution_count": 12,
   "metadata": {},
   "outputs": [],
   "source": [
    "# Functions for handling Zeros in Numeric columns\n",
    "\n",
    "def count_zeros(df, col_name):\n",
    "    return df[df[col_name]==0][col_name].count()\n"
   ]
  },
  {
   "cell_type": "code",
   "execution_count": 11,
   "metadata": {},
   "outputs": [
    {
     "name": "stdout",
     "output_type": "stream",
     "text": [
      "TRAIN: amount_tsh 41639\n",
      "TEST: amount_tsh 10410\n",
      "TRAIN: gps_height 20438\n",
      "TEST: gps_height 5211\n",
      "TRAIN: longitude 1812\n",
      "TEST: longitude 457\n",
      "TRAIN: num_private 58643\n",
      "TEST: num_private 14656\n",
      "TRAIN: district_code 23\n",
      "TEST: district_code 4\n",
      "TRAIN: population 21381\n",
      "TEST: population 5453\n",
      "TRAIN: construction_year 20709\n",
      "TEST: construction_year 5260\n"
     ]
    }
   ],
   "source": [
    "numeric_col_names = ['amount_tsh', 'gps_height', 'latitude', 'longitude', 'num_private', 'region_code', 'district_code', 'population', 'construction_year']\n",
    "\n",
    "for col_name in numeric_col_names:\n",
    "    the_train_count = count_zeros(train_values_processed, col_name)\n",
    "    the_test_count = count_zeros(test_values_processed, col_name)\n",
    "    if(the_test_count + the_train_count > 0):\n",
    "        print('TRAIN:', col_name, the_train_count)\n",
    "        print('TEST:', col_name, the_test_count)"
   ]
  },
  {
   "cell_type": "code",
   "execution_count": 13,
   "metadata": {},
   "outputs": [],
   "source": [
    "# Drop the num_private COLUMN\n",
    "train_values_processed.drop('num_private', axis=1, inplace=True)\n",
    "test_values_processed.drop('num_private', axis=1, inplace=True)"
   ]
  },
  {
   "cell_type": "code",
   "execution_count": 14,
   "metadata": {},
   "outputs": [],
   "source": [
    "# Drop the rows with 0 longitude\n",
    "train_indices_long = train_values_processed[train_values_processed['longitude'] == 0 ].index\n",
    "test_indices_long = test_values_processed[test_values_processed['longitude'] == 0 ].index\n",
    "train_values_processed.drop(train_indices_long, inplace=True)\n",
    "test_values_processed.drop(test_indices_long, inplace=True)\n",
    "\n",
    "# drop the rows with 0 district_code\n",
    "train_indices_distric_code = train_values_processed[train_values_processed['district_code'] == 0 ].index\n",
    "test_indices_distric_code = test_values_processed[test_values_processed['district_code'] == 0 ].index\n",
    "train_values_processed.drop(train_indices_distric_code, inplace=True)\n",
    "test_values_processed.drop(test_indices_distric_code, inplace=True)"
   ]
  },
  {
   "cell_type": "code",
   "execution_count": 15,
   "metadata": {},
   "outputs": [
    {
     "output_type": "stream",
     "name": "stdout",
     "text": [
      "1997\n1997\n"
     ]
    }
   ],
   "source": [
    "# Get the average construction year for TRAIN and TEST\n",
    "known_const_year_rows = train_values_processed[train_values_processed['construction_year']>0]\n",
    "avg_counstruction_year = int(known_const_year_rows['construction_year'].mean().round())\n",
    "print(avg_counstruction_year)\n",
    "\n",
    "test_known_const_year_rows = test_values_processed[test_values_processed['construction_year']>0]\n",
    "test_avg_counstruction_year = int(test_known_const_year_rows['construction_year'].mean().round())\n",
    "print(test_avg_counstruction_year)"
   ]
  },
  {
   "cell_type": "code",
   "execution_count": 37,
   "metadata": {},
   "outputs": [],
   "source": [
    "# Set construction_year to the average construction year where that value is 0\n",
    "train_values_processed['construction_year'] = train_values_processed.apply(lambda row: avg_counstruction_year if row['construction_year'] == 0 else row['construction_year'], axis=1)\n",
    "test_values_processed['construction_year'] = test_values_processed.apply(lambda row: test_avg_counstruction_year if row['construction_year'] == 0 else row['construction_year'], axis=1)"
   ]
  },
  {
   "cell_type": "markdown",
   "metadata": {},
   "source": [
    "### Normalize String columns - all to lower case\n",
    "\n",
    "* funder - Who funded the well\n",
    "* installer - Organization that installed the well\n",
    "* wpt_name - Name of the waterpoint if there is one\n",
    "* basin - Geographic water basin\n",
    "* subvillage - Geographic location\n",
    "* region - Geographic location\n",
    "* lga - Geographic location\n",
    "* ward - Geographic location\n",
    "* recorded_by - Group entering this row of data\n",
    "* scheme_management - Who operates the waterpoint\n",
    "* scheme_name - Who operates the waterpoint\n",
    "* extraction_type - The kind of extraction the waterpoint uses\n",
    "* extraction_type_group - The kind of extraction the waterpoint uses\n",
    "* extraction_type_class - The kind of extraction the waterpoint uses\n",
    "* management - How the waterpoint is managed\n",
    "* management_group - How the waterpoint is managed\n",
    "* payment_type - What the water costs\n",
    "* payment_type - What the water costs\n",
    "* water_quality - The quality of the water\n",
    "* quality_group - The quality of the water\n",
    "* quantity - The quantity of water\n",
    "* quantity_group - The quantity of water\n",
    "* source - The source of the water\n",
    "* source_type - The source of the water\n",
    "* source_class - The source of the water\n",
    "* waterpoint_type - The kind of waterpoint\n",
    "* waterpoint_type_group - The kind of waterpoin\n"
   ]
  },
  {
   "cell_type": "code",
   "execution_count": 38,
   "metadata": {},
   "outputs": [],
   "source": [
    "# Normalize String values function(s)\n",
    "def normalize_strings(df, col_name):\n",
    "     df[col_name] = df.apply(lambda row: row[col_name].lower(), axis=1)"
   ]
  },
  {
   "cell_type": "code",
   "execution_count": 39,
   "metadata": {},
   "outputs": [],
   "source": [
    "\n",
    "string_col_names = ['funder', 'wpt_name', 'basin', 'subvillage', 'region', 'lga', 'ward', 'recorded_by','scheme_management','scheme_name', 'extraction_type', 'extraction_type_group', 'extraction_type_class', 'management', 'management_group', 'payment', 'payment_type', 'water_quality', 'quality_group', 'quantity', 'quantity_group', 'source', 'source_type' , 'source_class', 'waterpoint_type', 'waterpoint_type_group']\n",
    "\n",
    "for col_name in string_col_names:\n",
    "    normalize_strings(train_values_processed, col_name)\n",
    "    normalize_strings(test_values_processed, col_name)\n"
   ]
  },
  {
   "cell_type": "markdown",
   "metadata": {},
   "source": [
    "### New Columns/Feature creation\n",
    "* recorded_year -  Pulling out the year from date_recorded\n",
    "* waterpoint_age - Calculate as recorded_year - construction_year\n",
    "* region_with_code - Combine region and region_code. There are more region_code values than region values\n",
    "* recorded_good_quality - True if quality_group == 'good', False if  anything other than 'good'\n",
    "* recorded_good_quantity - True if quanity_group == 'sufficient', False if anythign other than 'sufficient'\n",
    "\n",
    " "
   ]
  },
  {
   "cell_type": "code",
   "execution_count": 40,
   "metadata": {},
   "outputs": [],
   "source": [
    "# Functions for creating new features\n",
    "def get_recorded_year(recorded_date_string):\n",
    "    year = 0\n",
    "    date_segs = recorded_date_string.split('-')\n",
    "    if((len(date_segs) == 3) & (len(date_segs[0]) == 4)):\n",
    "        try:\n",
    "            year = int(date_segs[0])\n",
    "        except:\n",
    "            print(\"Not a valid year format.\") \n",
    "    return year\n",
    "\n",
    "\n",
    "def get_waterpoint_age(recorded_year, constructed_year):\n",
    "    age = 0\n",
    "    is_logical_year = constructed_year > 0\n",
    "    is_logical_age = recorded_year > constructed_year\n",
    "    if (is_logical_year & is_logical_age):\n",
    "        age = recorded_year - constructed_year\n",
    "    return age\n",
    "\n",
    "\n",
    "def get_region_name_and_code(region, region_code):\n",
    "    return region + '_' + str(region_code)\n",
    "\n",
    "\n",
    "def get_recorded_good_quality(quality_group):\n",
    "    result = False\n",
    "    if ('good' == quality_group):\n",
    "        result = True\n",
    "    return result\n",
    "\n",
    "\n",
    "def get_recorded_good_quanity(quanity_group):\n",
    "    result = False\n",
    "    if ('enough' == quanity_group):\n",
    "        result = True\n",
    "    return result\n",
    "        "
   ]
  },
  {
   "cell_type": "code",
   "execution_count": 41,
   "metadata": {},
   "outputs": [],
   "source": [
    "# recorded_year\n",
    "train_values_processed['recorded_year'] = train_values_processed.apply(lambda row: get_recorded_year(row['date_recorded']), axis=1)\n",
    "test_values_processed['recorded_year'] = test_values_processed.apply(lambda row: get_recorded_year(row['date_recorded']), axis=1)"
   ]
  },
  {
   "cell_type": "code",
   "execution_count": 42,
   "metadata": {
    "tags": []
   },
   "outputs": [],
   "source": [
    "# waterpoint_age\n",
    "train_values_processed['waterpoint_age'] = train_values_processed.apply(lambda row: get_waterpoint_age(row['recorded_year'],row['construction_year']), axis=1)\n",
    "test_values_processed['waterpoint_age'] = test_values_processed.apply(lambda row: get_waterpoint_age(row['recorded_year'], row['construction_year']), axis=1)"
   ]
  },
  {
   "cell_type": "code",
   "execution_count": 43,
   "metadata": {},
   "outputs": [],
   "source": [
    "# region_code_and_name\n",
    "train_values_processed['region_code_and_name'] = train_values_processed.apply(lambda row: get_region_name_and_code(row['region'],row['region_code']), axis=1)\n",
    "test_values_processed['region_code_and_name'] = test_values_processed.apply(lambda row: get_region_name_and_code(row['region'], row['region_code']), axis=1)"
   ]
  },
  {
   "cell_type": "code",
   "execution_count": 44,
   "metadata": {},
   "outputs": [],
   "source": [
    "# recorded_good_quality\n",
    "train_values_processed['recorded_good_quality'] = train_values_processed.apply(lambda row: get_recorded_good_quality(row['quality_group']), axis=1)\n",
    "test_values_processed['recorded_good_quality'] = test_values_processed.apply(lambda row: get_recorded_good_quality(row['quality_group']), axis=1)"
   ]
  },
  {
   "cell_type": "code",
   "execution_count": 45,
   "metadata": {},
   "outputs": [],
   "source": [
    "# recorded_good_quanity\n",
    "train_values_processed['recorded_good_quantity'] = train_values_processed.apply(lambda row: get_recorded_good_quanity(row['quantity_group']), axis=1)\n",
    "test_values_processed['recorded_good_quantity'] = test_values_processed.apply(lambda row: get_recorded_good_quanity(row['quantity_group']), axis=1)"
   ]
  },
  {
   "cell_type": "markdown",
   "metadata": {},
   "source": [
    "## Final Prep\n",
    "* Add the class labels to the TRAINING dataset only\n",
    "* Save both processed TRAINING and TEST to file for use in EDA and Classifer Modeling\n"
   ]
  },
  {
   "cell_type": "code",
   "execution_count": 46,
   "metadata": {},
   "outputs": [],
   "source": [
    "train_values_processed_and_labeled = pd.merge(train_values_processed, train_labels_raw, on='id')"
   ]
  },
  {
   "cell_type": "code",
   "execution_count": 47,
   "metadata": {},
   "outputs": [],
   "source": [
    "train_values_processed_and_labeled.to_csv('../data/train_processed_labeled.csv', index=False)\n",
    "test_values_processed.to_csv('../data/test_processed.csv', index=False)"
   ]
  },
  {
   "cell_type": "code",
   "execution_count": 48,
   "metadata": {},
   "outputs": [
    {
     "output_type": "execute_result",
     "data": {
      "text/plain": [
       "(57565, 45)"
      ]
     },
     "metadata": {},
     "execution_count": 48
    }
   ],
   "source": [
    "train_values_processed_and_labeled.shape"
   ]
  },
  {
   "cell_type": "code",
   "execution_count": 50,
   "metadata": {},
   "outputs": [
    {
     "output_type": "execute_result",
     "data": {
      "text/plain": [
       "(14389, 44)"
      ]
     },
     "metadata": {},
     "execution_count": 50
    }
   ],
   "source": [
    "test_values_processed.shape"
   ]
  },
  {
   "cell_type": "code",
   "execution_count": 51,
   "metadata": {},
   "outputs": [
    {
     "output_type": "execute_result",
     "data": {
      "text/plain": [
       "             id  amount_tsh  gps_height  longitude  latitude  region_code  \\\n",
       "count 57,565.00   57,565.00   57,565.00  57,565.00 57,565.00    57,565.00   \n",
       "mean  37,108.80      327.78      689.60      35.15     -5.89        15.22   \n",
       "std   21,454.23    3,044.43      693.57       2.61      2.81        17.86   \n",
       "min        0.00        0.00      -90.00      29.61    -11.65         1.00   \n",
       "25%   18,528.00        0.00        0.00      33.28     -8.65         5.00   \n",
       "50%   37,057.00        0.00      427.00      35.00     -5.17        12.00   \n",
       "75%   55,669.00       30.00    1,332.00      37.23     -3.37        17.00   \n",
       "max   74,247.00  350,000.00    2,770.00      40.35     -1.00        99.00   \n",
       "\n",
       "       district_code  population  construction_year  recorded_year  \\\n",
       "count      57,565.00   57,565.00          57,565.00      57,565.00   \n",
       "mean            5.73      185.64           1,996.88       2,011.92   \n",
       "std             9.76      477.83              10.23           0.96   \n",
       "min             1.00        0.00           1,960.00       2,002.00   \n",
       "25%             2.00        0.00           1,995.00       2,011.00   \n",
       "50%             3.00       35.00           1,997.00       2,012.00   \n",
       "75%             5.00      230.00           2,004.00       2,013.00   \n",
       "max            80.00   30,500.00           2,013.00       2,013.00   \n",
       "\n",
       "       waterpoint_age  \n",
       "count       57,565.00  \n",
       "mean            15.04  \n",
       "std             10.26  \n",
       "min              0.00  \n",
       "25%              7.00  \n",
       "50%             14.00  \n",
       "75%             17.00  \n",
       "max             53.00  "
      ],
      "text/html": "<div>\n<style scoped>\n    .dataframe tbody tr th:only-of-type {\n        vertical-align: middle;\n    }\n\n    .dataframe tbody tr th {\n        vertical-align: top;\n    }\n\n    .dataframe thead th {\n        text-align: right;\n    }\n</style>\n<table border=\"1\" class=\"dataframe\">\n  <thead>\n    <tr style=\"text-align: right;\">\n      <th></th>\n      <th>id</th>\n      <th>amount_tsh</th>\n      <th>gps_height</th>\n      <th>longitude</th>\n      <th>latitude</th>\n      <th>region_code</th>\n      <th>district_code</th>\n      <th>population</th>\n      <th>construction_year</th>\n      <th>recorded_year</th>\n      <th>waterpoint_age</th>\n    </tr>\n  </thead>\n  <tbody>\n    <tr>\n      <th>count</th>\n      <td>57,565.00</td>\n      <td>57,565.00</td>\n      <td>57,565.00</td>\n      <td>57,565.00</td>\n      <td>57,565.00</td>\n      <td>57,565.00</td>\n      <td>57,565.00</td>\n      <td>57,565.00</td>\n      <td>57,565.00</td>\n      <td>57,565.00</td>\n      <td>57,565.00</td>\n    </tr>\n    <tr>\n      <th>mean</th>\n      <td>37,108.80</td>\n      <td>327.78</td>\n      <td>689.60</td>\n      <td>35.15</td>\n      <td>-5.89</td>\n      <td>15.22</td>\n      <td>5.73</td>\n      <td>185.64</td>\n      <td>1,996.88</td>\n      <td>2,011.92</td>\n      <td>15.04</td>\n    </tr>\n    <tr>\n      <th>std</th>\n      <td>21,454.23</td>\n      <td>3,044.43</td>\n      <td>693.57</td>\n      <td>2.61</td>\n      <td>2.81</td>\n      <td>17.86</td>\n      <td>9.76</td>\n      <td>477.83</td>\n      <td>10.23</td>\n      <td>0.96</td>\n      <td>10.26</td>\n    </tr>\n    <tr>\n      <th>min</th>\n      <td>0.00</td>\n      <td>0.00</td>\n      <td>-90.00</td>\n      <td>29.61</td>\n      <td>-11.65</td>\n      <td>1.00</td>\n      <td>1.00</td>\n      <td>0.00</td>\n      <td>1,960.00</td>\n      <td>2,002.00</td>\n      <td>0.00</td>\n    </tr>\n    <tr>\n      <th>25%</th>\n      <td>18,528.00</td>\n      <td>0.00</td>\n      <td>0.00</td>\n      <td>33.28</td>\n      <td>-8.65</td>\n      <td>5.00</td>\n      <td>2.00</td>\n      <td>0.00</td>\n      <td>1,995.00</td>\n      <td>2,011.00</td>\n      <td>7.00</td>\n    </tr>\n    <tr>\n      <th>50%</th>\n      <td>37,057.00</td>\n      <td>0.00</td>\n      <td>427.00</td>\n      <td>35.00</td>\n      <td>-5.17</td>\n      <td>12.00</td>\n      <td>3.00</td>\n      <td>35.00</td>\n      <td>1,997.00</td>\n      <td>2,012.00</td>\n      <td>14.00</td>\n    </tr>\n    <tr>\n      <th>75%</th>\n      <td>55,669.00</td>\n      <td>30.00</td>\n      <td>1,332.00</td>\n      <td>37.23</td>\n      <td>-3.37</td>\n      <td>17.00</td>\n      <td>5.00</td>\n      <td>230.00</td>\n      <td>2,004.00</td>\n      <td>2,013.00</td>\n      <td>17.00</td>\n    </tr>\n    <tr>\n      <th>max</th>\n      <td>74,247.00</td>\n      <td>350,000.00</td>\n      <td>2,770.00</td>\n      <td>40.35</td>\n      <td>-1.00</td>\n      <td>99.00</td>\n      <td>80.00</td>\n      <td>30,500.00</td>\n      <td>2,013.00</td>\n      <td>2,013.00</td>\n      <td>53.00</td>\n    </tr>\n  </tbody>\n</table>\n</div>"
     },
     "metadata": {},
     "execution_count": 51
    }
   ],
   "source": [
    "train_values_processed.describe()"
   ]
  },
  {
   "cell_type": "code",
   "execution_count": 53,
   "metadata": {},
   "outputs": [
    {
     "output_type": "execute_result",
     "data": {
      "text/plain": [
       "             id  amount_tsh  gps_height  longitude  latitude  region_code  \\\n",
       "count 14,389.00   14,389.00   14,389.00  14,389.00 14,389.00    14,389.00   \n",
       "mean  37,164.40      333.17      676.14      35.14     -5.87        15.06   \n",
       "std   21,346.54    2,550.20      692.07       2.62      2.80        17.46   \n",
       "min       10.00        0.00      -57.00      29.61    -11.56         1.00   \n",
       "25%   18,733.00        0.00        0.00      33.24     -8.57         5.00   \n",
       "50%   37,376.00        0.00      388.00      35.01     -5.18        12.00   \n",
       "75%   55,768.00       30.00    1,320.00      37.26     -3.37        17.00   \n",
       "max   74,249.00  200,000.00    2,777.00      40.33     -1.00        99.00   \n",
       "\n",
       "       district_code  population  construction_year  recorded_year  \\\n",
       "count      14,389.00   14,389.00          14,389.00      14,389.00   \n",
       "mean            5.73      190.01           1,997.07       2,011.90   \n",
       "std             9.80      475.79              10.05           0.97   \n",
       "min             1.00        0.00           1,960.00       2,001.00   \n",
       "25%             2.00        0.00           1,995.00       2,011.00   \n",
       "50%             3.00       30.00           1,997.00       2,012.00   \n",
       "75%             5.00      230.00           2,005.00       2,013.00   \n",
       "max            80.00   11,469.00           2,013.00       2,013.00   \n",
       "\n",
       "       waterpoint_age  \n",
       "count       14,389.00  \n",
       "mean            14.83  \n",
       "std             10.09  \n",
       "min              0.00  \n",
       "25%              7.00  \n",
       "50%             14.00  \n",
       "75%             16.00  \n",
       "max             53.00  "
      ],
      "text/html": "<div>\n<style scoped>\n    .dataframe tbody tr th:only-of-type {\n        vertical-align: middle;\n    }\n\n    .dataframe tbody tr th {\n        vertical-align: top;\n    }\n\n    .dataframe thead th {\n        text-align: right;\n    }\n</style>\n<table border=\"1\" class=\"dataframe\">\n  <thead>\n    <tr style=\"text-align: right;\">\n      <th></th>\n      <th>id</th>\n      <th>amount_tsh</th>\n      <th>gps_height</th>\n      <th>longitude</th>\n      <th>latitude</th>\n      <th>region_code</th>\n      <th>district_code</th>\n      <th>population</th>\n      <th>construction_year</th>\n      <th>recorded_year</th>\n      <th>waterpoint_age</th>\n    </tr>\n  </thead>\n  <tbody>\n    <tr>\n      <th>count</th>\n      <td>14,389.00</td>\n      <td>14,389.00</td>\n      <td>14,389.00</td>\n      <td>14,389.00</td>\n      <td>14,389.00</td>\n      <td>14,389.00</td>\n      <td>14,389.00</td>\n      <td>14,389.00</td>\n      <td>14,389.00</td>\n      <td>14,389.00</td>\n      <td>14,389.00</td>\n    </tr>\n    <tr>\n      <th>mean</th>\n      <td>37,164.40</td>\n      <td>333.17</td>\n      <td>676.14</td>\n      <td>35.14</td>\n      <td>-5.87</td>\n      <td>15.06</td>\n      <td>5.73</td>\n      <td>190.01</td>\n      <td>1,997.07</td>\n      <td>2,011.90</td>\n      <td>14.83</td>\n    </tr>\n    <tr>\n      <th>std</th>\n      <td>21,346.54</td>\n      <td>2,550.20</td>\n      <td>692.07</td>\n      <td>2.62</td>\n      <td>2.80</td>\n      <td>17.46</td>\n      <td>9.80</td>\n      <td>475.79</td>\n      <td>10.05</td>\n      <td>0.97</td>\n      <td>10.09</td>\n    </tr>\n    <tr>\n      <th>min</th>\n      <td>10.00</td>\n      <td>0.00</td>\n      <td>-57.00</td>\n      <td>29.61</td>\n      <td>-11.56</td>\n      <td>1.00</td>\n      <td>1.00</td>\n      <td>0.00</td>\n      <td>1,960.00</td>\n      <td>2,001.00</td>\n      <td>0.00</td>\n    </tr>\n    <tr>\n      <th>25%</th>\n      <td>18,733.00</td>\n      <td>0.00</td>\n      <td>0.00</td>\n      <td>33.24</td>\n      <td>-8.57</td>\n      <td>5.00</td>\n      <td>2.00</td>\n      <td>0.00</td>\n      <td>1,995.00</td>\n      <td>2,011.00</td>\n      <td>7.00</td>\n    </tr>\n    <tr>\n      <th>50%</th>\n      <td>37,376.00</td>\n      <td>0.00</td>\n      <td>388.00</td>\n      <td>35.01</td>\n      <td>-5.18</td>\n      <td>12.00</td>\n      <td>3.00</td>\n      <td>30.00</td>\n      <td>1,997.00</td>\n      <td>2,012.00</td>\n      <td>14.00</td>\n    </tr>\n    <tr>\n      <th>75%</th>\n      <td>55,768.00</td>\n      <td>30.00</td>\n      <td>1,320.00</td>\n      <td>37.26</td>\n      <td>-3.37</td>\n      <td>17.00</td>\n      <td>5.00</td>\n      <td>230.00</td>\n      <td>2,005.00</td>\n      <td>2,013.00</td>\n      <td>16.00</td>\n    </tr>\n    <tr>\n      <th>max</th>\n      <td>74,249.00</td>\n      <td>200,000.00</td>\n      <td>2,777.00</td>\n      <td>40.33</td>\n      <td>-1.00</td>\n      <td>99.00</td>\n      <td>80.00</td>\n      <td>11,469.00</td>\n      <td>2,013.00</td>\n      <td>2,013.00</td>\n      <td>53.00</td>\n    </tr>\n  </tbody>\n</table>\n</div>"
     },
     "metadata": {},
     "execution_count": 53
    }
   ],
   "source": [
    "test_values_processed.describe()"
   ]
  },
  {
   "cell_type": "code",
   "execution_count": null,
   "metadata": {},
   "outputs": [],
   "source": []
  }
 ],
 "metadata": {
  "kernelspec": {
   "display_name": "flatiron",
   "language": "python",
   "name": "flatiron"
  },
  "language_info": {
   "codemirror_mode": {
    "name": "ipython",
    "version": 3
   },
   "file_extension": ".py",
   "mimetype": "text/x-python",
   "name": "python",
   "nbconvert_exporter": "python",
   "pygments_lexer": "ipython3",
   "version": "3.6.9-final"
  }
 },
 "nbformat": 4,
 "nbformat_minor": 2
}