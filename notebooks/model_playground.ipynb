{
 "metadata": {
  "language_info": {
   "codemirror_mode": {
    "name": "ipython",
    "version": 3
   },
   "file_extension": ".py",
   "mimetype": "text/x-python",
   "name": "python",
   "nbconvert_exporter": "python",
   "pygments_lexer": "ipython3",
   "version": "3.6.9-final"
  },
  "orig_nbformat": 2,
  "kernelspec": {
   "name": "Python 3.6.9 64-bit ('flatiron': conda)",
   "display_name": "Python 3.6.9 64-bit ('flatiron': conda)",
   "metadata": {
    "interpreter": {
     "hash": "4535bfad872b0023e1fa85bd7b3c83a64ea39ab51ed0133218ea0a816c02d554"
    }
   }
  }
 },
 "nbformat": 4,
 "nbformat_minor": 2,
 "cells": [
  {
   "cell_type": "markdown",
   "metadata": {},
   "source": [
    "# Classifer Model - Playground"
   ]
  },
  {
   "cell_type": "markdown",
   "metadata": {},
   "source": [
    "### Evaluation Metric: __What?__\n",
    "\n",
    "Using __what?__ as the evalation metric for the Classifer. \n",
    "\n",
    "There are 3 classes: Functional, Non Functional, and Functional Needs Repair. \n",
    "\n",
    "#### Class Frequency of the classes represented in the __Training__ dataset:\n",
    "* Functional: 54.5%\n",
    "* Non Functional: 38.7%\n",
    "* Functional Needs Repair: 6.8%\n",
    "\n",
    "There is a class imbalance issue, with __Functional Needs Repair__ as the rare class. "
   ]
  },
  {
   "cell_type": "markdown",
   "metadata": {},
   "source": [
    "### Challenge Evaluation Metric: Classification Rate \n",
    "\n",
    "Classification Rate = 1N∑Ni=0I(yi=yi^)\n",
    "\n",
    "\"The metric used for this competition is the classification rate, which calculates the percentage of rows where the predicted class y^\n",
    "in the submission matches the actual class, y in the test set. The maximum is 1 and the minimum is 0. The goal is to maximize the classification rate.\""
   ]
  },
  {
   "cell_type": "markdown",
   "metadata": {},
   "source": [
    "#### Load in libraries"
   ]
  },
  {
   "cell_type": "code",
   "execution_count": 31,
   "metadata": {},
   "outputs": [],
   "source": [
    "# Load in libraries\n",
    "import warnings\n",
    "from importlib import reload\n",
    "\n",
    "warnings.filterwarnings('ignore')\n",
    "\n",
    "import pandas as pd\n",
    "import numpy as np \n",
    "\n",
    "import scipy.stats as scs\n",
    "import statsmodels.api as sm\n",
    "import statsmodels.formula.api as sms\n",
    "\n",
    "# ADD IN CORRECT CLASSIFIER MODEL LIBS!!!!!\n",
    "from sklearn.model_selection import train_test_split, cross_val_score\n",
    "from sklearn.model_selection import KFold\n",
    "\n",
    "from sklearn.model_selection import train_test_split\n",
    "from sklearn.metrics import roc_curve, auc # needed?\n",
    "from sklearn.metrics import accuracy_score, confusion_matrix, classification_report, plot_confusion_matrix\n",
    "#needed?\n",
    "from sklearn.tree import DecisionTreeClassifier\n",
    "from sklearn.ensemble import BaggingClassifier, RandomForestClassifier, AdaBoostClassifier\n",
    "# needed?\n",
    "from sklearn.model_selection import GridSearchCV, cross_val_score\n",
    "\n",
    "\n",
    "import matplotlib.pyplot as plt\n",
    "%matplotlib inline\n",
    "plt.style.use('seaborn')"
   ]
  },
  {
   "cell_type": "markdown",
   "metadata": {},
   "source": [
    "#### Load in Training Data"
   ]
  },
  {
   "cell_type": "code",
   "execution_count": 32,
   "metadata": {},
   "outputs": [
    {
     "output_type": "stream",
     "name": "stdout",
     "text": [
      "(57565, 45)\n"
     ]
    },
    {
     "output_type": "execute_result",
     "data": {
      "text/plain": [
       "      id  amount_tsh date_recorded        funder  gps_height     installer  \\\n",
       "0  69572      6000.0    2011-03-14         roman        1390         Roman   \n",
       "1   8776         0.0    2013-03-06       grumeti        1399       GRUMETI   \n",
       "2  34310        25.0    2013-02-25  lottery club         686  World vision   \n",
       "\n",
       "   longitude  latitude     wpt_name          basin  ...           source_type  \\\n",
       "0  34.938093 -9.856322         none     lake nyasa  ...                spring   \n",
       "1  34.698766 -2.147466     zahanati  lake victoria  ...  rainwater harvesting   \n",
       "2  37.460664 -3.821329  kwa mahundi        pangani  ...                   dam   \n",
       "\n",
       "  source_class              waterpoint_type  waterpoint_type_group  \\\n",
       "0  groundwater           communal standpipe     communal standpipe   \n",
       "1      surface           communal standpipe     communal standpipe   \n",
       "2      surface  communal standpipe multiple     communal standpipe   \n",
       "\n",
       "  recorded_year waterpoint_age  region_code_and_name  recorded_good_quality  \\\n",
       "0          2011             12             iringa_11                   True   \n",
       "1          2013              3               mara_20                   True   \n",
       "2          2013              4            manyara_21                   True   \n",
       "\n",
       "  recorded_good_quantity status_group  \n",
       "0                   True   functional  \n",
       "1                  False   functional  \n",
       "2                   True   functional  \n",
       "\n",
       "[3 rows x 45 columns]"
      ],
      "text/html": "<div>\n<style scoped>\n    .dataframe tbody tr th:only-of-type {\n        vertical-align: middle;\n    }\n\n    .dataframe tbody tr th {\n        vertical-align: top;\n    }\n\n    .dataframe thead th {\n        text-align: right;\n    }\n</style>\n<table border=\"1\" class=\"dataframe\">\n  <thead>\n    <tr style=\"text-align: right;\">\n      <th></th>\n      <th>id</th>\n      <th>amount_tsh</th>\n      <th>date_recorded</th>\n      <th>funder</th>\n      <th>gps_height</th>\n      <th>installer</th>\n      <th>longitude</th>\n      <th>latitude</th>\n      <th>wpt_name</th>\n      <th>basin</th>\n      <th>...</th>\n      <th>source_type</th>\n      <th>source_class</th>\n      <th>waterpoint_type</th>\n      <th>waterpoint_type_group</th>\n      <th>recorded_year</th>\n      <th>waterpoint_age</th>\n      <th>region_code_and_name</th>\n      <th>recorded_good_quality</th>\n      <th>recorded_good_quantity</th>\n      <th>status_group</th>\n    </tr>\n  </thead>\n  <tbody>\n    <tr>\n      <th>0</th>\n      <td>69572</td>\n      <td>6000.0</td>\n      <td>2011-03-14</td>\n      <td>roman</td>\n      <td>1390</td>\n      <td>Roman</td>\n      <td>34.938093</td>\n      <td>-9.856322</td>\n      <td>none</td>\n      <td>lake nyasa</td>\n      <td>...</td>\n      <td>spring</td>\n      <td>groundwater</td>\n      <td>communal standpipe</td>\n      <td>communal standpipe</td>\n      <td>2011</td>\n      <td>12</td>\n      <td>iringa_11</td>\n      <td>True</td>\n      <td>True</td>\n      <td>functional</td>\n    </tr>\n    <tr>\n      <th>1</th>\n      <td>8776</td>\n      <td>0.0</td>\n      <td>2013-03-06</td>\n      <td>grumeti</td>\n      <td>1399</td>\n      <td>GRUMETI</td>\n      <td>34.698766</td>\n      <td>-2.147466</td>\n      <td>zahanati</td>\n      <td>lake victoria</td>\n      <td>...</td>\n      <td>rainwater harvesting</td>\n      <td>surface</td>\n      <td>communal standpipe</td>\n      <td>communal standpipe</td>\n      <td>2013</td>\n      <td>3</td>\n      <td>mara_20</td>\n      <td>True</td>\n      <td>False</td>\n      <td>functional</td>\n    </tr>\n    <tr>\n      <th>2</th>\n      <td>34310</td>\n      <td>25.0</td>\n      <td>2013-02-25</td>\n      <td>lottery club</td>\n      <td>686</td>\n      <td>World vision</td>\n      <td>37.460664</td>\n      <td>-3.821329</td>\n      <td>kwa mahundi</td>\n      <td>pangani</td>\n      <td>...</td>\n      <td>dam</td>\n      <td>surface</td>\n      <td>communal standpipe multiple</td>\n      <td>communal standpipe</td>\n      <td>2013</td>\n      <td>4</td>\n      <td>manyara_21</td>\n      <td>True</td>\n      <td>True</td>\n      <td>functional</td>\n    </tr>\n  </tbody>\n</table>\n<p>3 rows × 45 columns</p>\n</div>"
     },
     "metadata": {},
     "execution_count": 32
    }
   ],
   "source": [
    "# read in the processed  training data\n",
    "train_df = pd.read_csv('../data/train_processed_labeled.csv')\n",
    "print(train_df.shape)\n",
    "train_df.head(3)"
   ]
  },
  {
   "cell_type": "code",
   "execution_count": 33,
   "metadata": {},
   "outputs": [
    {
     "output_type": "stream",
     "name": "stdout",
     "text": [
      "<class 'pandas.core.frame.DataFrame'>\nRangeIndex: 57565 entries, 0 to 57564\nData columns (total 45 columns):\n #   Column                  Non-Null Count  Dtype  \n---  ------                  --------------  -----  \n 0   id                      57565 non-null  int64  \n 1   amount_tsh              57565 non-null  float64\n 2   date_recorded           57565 non-null  object \n 3   funder                  57565 non-null  object \n 4   gps_height              57565 non-null  int64  \n 5   installer               57565 non-null  object \n 6   longitude               57565 non-null  float64\n 7   latitude                57565 non-null  float64\n 8   wpt_name                57565 non-null  object \n 9   basin                   57565 non-null  object \n 10  subvillage              57565 non-null  object \n 11  region                  57565 non-null  object \n 12  region_code             57565 non-null  int64  \n 13  district_code           57565 non-null  int64  \n 14  lga                     57565 non-null  object \n 15  ward                    57565 non-null  object \n 16  population              57565 non-null  int64  \n 17  public_meeting          57565 non-null  bool   \n 18  recorded_by             57565 non-null  object \n 19  scheme_management       57565 non-null  object \n 20  scheme_name             57565 non-null  object \n 21  permit                  57565 non-null  bool   \n 22  construction_year       57565 non-null  int64  \n 23  extraction_type         57565 non-null  object \n 24  extraction_type_group   57565 non-null  object \n 25  extraction_type_class   57565 non-null  object \n 26  management              57565 non-null  object \n 27  management_group        57565 non-null  object \n 28  payment                 57565 non-null  object \n 29  payment_type            57565 non-null  object \n 30  water_quality           57565 non-null  object \n 31  quality_group           57565 non-null  object \n 32  quantity                57565 non-null  object \n 33  quantity_group          57565 non-null  object \n 34  source                  57565 non-null  object \n 35  source_type             57565 non-null  object \n 36  source_class            57565 non-null  object \n 37  waterpoint_type         57565 non-null  object \n 38  waterpoint_type_group   57565 non-null  object \n 39  recorded_year           57565 non-null  int64  \n 40  waterpoint_age          57565 non-null  int64  \n 41  region_code_and_name    57565 non-null  object \n 42  recorded_good_quality   57565 non-null  bool   \n 43  recorded_good_quantity  57565 non-null  bool   \n 44  status_group            57565 non-null  object \ndtypes: bool(4), float64(3), int64(8), object(30)\nmemory usage: 18.2+ MB\n"
     ]
    }
   ],
   "source": [
    "train_df.info()"
   ]
  },
  {
   "cell_type": "code",
   "execution_count": 34,
   "metadata": {},
   "outputs": [
    {
     "output_type": "execute_result",
     "data": {
      "text/plain": [
       "                 id     amount_tsh    gps_height     longitude      latitude  \\\n",
       "count  57565.000000   57565.000000  57565.000000  57565.000000  57565.000000   \n",
       "mean   37108.796109     327.776129    689.600556     35.149066     -5.885342   \n",
       "std    21454.227195    3044.432384    693.565822      2.607774      2.810414   \n",
       "min        0.000000       0.000000    -90.000000     29.607122    -11.649440   \n",
       "25%    18528.000000       0.000000      0.000000     33.284575     -8.646677   \n",
       "50%    37057.000000       0.000000    427.000000     35.004942     -5.170124   \n",
       "75%    55669.000000      30.000000   1332.000000     37.234736     -3.372717   \n",
       "max    74247.000000  350000.000000   2770.000000     40.345193     -0.998464   \n",
       "\n",
       "        region_code  district_code    population  construction_year  \\\n",
       "count  57565.000000   57565.000000  57565.000000       57565.000000   \n",
       "mean      15.223295       5.730600    185.644975        1996.875445   \n",
       "std       17.856558       9.761532    477.825269          10.225329   \n",
       "min        1.000000       1.000000      0.000000        1960.000000   \n",
       "25%        5.000000       2.000000      0.000000        1995.000000   \n",
       "50%       12.000000       3.000000     35.000000        1997.000000   \n",
       "75%       17.000000       5.000000    230.000000        2004.000000   \n",
       "max       99.000000      80.000000  30500.000000        2013.000000   \n",
       "\n",
       "       recorded_year  waterpoint_age  \n",
       "count   57565.000000    57565.000000  \n",
       "mean     2011.915678       15.040858  \n",
       "std         0.961137       10.257680  \n",
       "min      2002.000000        0.000000  \n",
       "25%      2011.000000        7.000000  \n",
       "50%      2012.000000       14.000000  \n",
       "75%      2013.000000       17.000000  \n",
       "max      2013.000000       53.000000  "
      ],
      "text/html": "<div>\n<style scoped>\n    .dataframe tbody tr th:only-of-type {\n        vertical-align: middle;\n    }\n\n    .dataframe tbody tr th {\n        vertical-align: top;\n    }\n\n    .dataframe thead th {\n        text-align: right;\n    }\n</style>\n<table border=\"1\" class=\"dataframe\">\n  <thead>\n    <tr style=\"text-align: right;\">\n      <th></th>\n      <th>id</th>\n      <th>amount_tsh</th>\n      <th>gps_height</th>\n      <th>longitude</th>\n      <th>latitude</th>\n      <th>region_code</th>\n      <th>district_code</th>\n      <th>population</th>\n      <th>construction_year</th>\n      <th>recorded_year</th>\n      <th>waterpoint_age</th>\n    </tr>\n  </thead>\n  <tbody>\n    <tr>\n      <th>count</th>\n      <td>57565.000000</td>\n      <td>57565.000000</td>\n      <td>57565.000000</td>\n      <td>57565.000000</td>\n      <td>57565.000000</td>\n      <td>57565.000000</td>\n      <td>57565.000000</td>\n      <td>57565.000000</td>\n      <td>57565.000000</td>\n      <td>57565.000000</td>\n      <td>57565.000000</td>\n    </tr>\n    <tr>\n      <th>mean</th>\n      <td>37108.796109</td>\n      <td>327.776129</td>\n      <td>689.600556</td>\n      <td>35.149066</td>\n      <td>-5.885342</td>\n      <td>15.223295</td>\n      <td>5.730600</td>\n      <td>185.644975</td>\n      <td>1996.875445</td>\n      <td>2011.915678</td>\n      <td>15.040858</td>\n    </tr>\n    <tr>\n      <th>std</th>\n      <td>21454.227195</td>\n      <td>3044.432384</td>\n      <td>693.565822</td>\n      <td>2.607774</td>\n      <td>2.810414</td>\n      <td>17.856558</td>\n      <td>9.761532</td>\n      <td>477.825269</td>\n      <td>10.225329</td>\n      <td>0.961137</td>\n      <td>10.257680</td>\n    </tr>\n    <tr>\n      <th>min</th>\n      <td>0.000000</td>\n      <td>0.000000</td>\n      <td>-90.000000</td>\n      <td>29.607122</td>\n      <td>-11.649440</td>\n      <td>1.000000</td>\n      <td>1.000000</td>\n      <td>0.000000</td>\n      <td>1960.000000</td>\n      <td>2002.000000</td>\n      <td>0.000000</td>\n    </tr>\n    <tr>\n      <th>25%</th>\n      <td>18528.000000</td>\n      <td>0.000000</td>\n      <td>0.000000</td>\n      <td>33.284575</td>\n      <td>-8.646677</td>\n      <td>5.000000</td>\n      <td>2.000000</td>\n      <td>0.000000</td>\n      <td>1995.000000</td>\n      <td>2011.000000</td>\n      <td>7.000000</td>\n    </tr>\n    <tr>\n      <th>50%</th>\n      <td>37057.000000</td>\n      <td>0.000000</td>\n      <td>427.000000</td>\n      <td>35.004942</td>\n      <td>-5.170124</td>\n      <td>12.000000</td>\n      <td>3.000000</td>\n      <td>35.000000</td>\n      <td>1997.000000</td>\n      <td>2012.000000</td>\n      <td>14.000000</td>\n    </tr>\n    <tr>\n      <th>75%</th>\n      <td>55669.000000</td>\n      <td>30.000000</td>\n      <td>1332.000000</td>\n      <td>37.234736</td>\n      <td>-3.372717</td>\n      <td>17.000000</td>\n      <td>5.000000</td>\n      <td>230.000000</td>\n      <td>2004.000000</td>\n      <td>2013.000000</td>\n      <td>17.000000</td>\n    </tr>\n    <tr>\n      <th>max</th>\n      <td>74247.000000</td>\n      <td>350000.000000</td>\n      <td>2770.000000</td>\n      <td>40.345193</td>\n      <td>-0.998464</td>\n      <td>99.000000</td>\n      <td>80.000000</td>\n      <td>30500.000000</td>\n      <td>2013.000000</td>\n      <td>2013.000000</td>\n      <td>53.000000</td>\n    </tr>\n  </tbody>\n</table>\n</div>"
     },
     "metadata": {},
     "execution_count": 34
    }
   ],
   "source": [
    "train_df.describe()"
   ]
  },
  {
   "cell_type": "code",
   "execution_count": 36,
   "metadata": {},
   "outputs": [
    {
     "output_type": "execute_result",
     "data": {
      "text/plain": [
       "14    13914\n",
       "15     5679\n",
       "3      2740\n",
       "1      2303\n",
       "16     2246\n",
       "2      2129\n",
       "5      1981\n",
       "4      1890\n",
       "13     1869\n",
       "7      1417\n",
       "6      1381\n",
       "11     1352\n",
       "8      1160\n",
       "33     1120\n",
       "23      905\n",
       "10      868\n",
       "9       814\n",
       "19      766\n",
       "27      762\n",
       "18      754\n",
       "31      709\n",
       "28      709\n",
       "35      647\n",
       "17      636\n",
       "39      601\n",
       "37      600\n",
       "0       597\n",
       "26      589\n",
       "25      583\n",
       "21      578\n",
       "29      564\n",
       "12      559\n",
       "20      541\n",
       "41      488\n",
       "30      359\n",
       "43      356\n",
       "38      351\n",
       "36      325\n",
       "22      323\n",
       "24      261\n",
       "40      233\n",
       "34      184\n",
       "32      174\n",
       "53       91\n",
       "42       90\n",
       "50       84\n",
       "45       66\n",
       "46       48\n",
       "44       47\n",
       "48       41\n",
       "51       31\n",
       "49       25\n",
       "47       14\n",
       "52       11\n",
       "Name: waterpoint_age, dtype: int64"
      ]
     },
     "metadata": {},
     "execution_count": 36
    }
   ],
   "source": [
    "train_df['amount_tsh'].value_counts()\n",
    "train_df['population'].value_counts()\n",
    "train_df['construction_year'].value_counts()\n",
    "train_df['recorded_year'].value_counts()\n",
    "train_df['waterpoint_age'].value_counts()"
   ]
  },
  {
   "cell_type": "markdown",
   "metadata": {},
   "source": [
    "#### Load in Test Data"
   ]
  },
  {
   "cell_type": "code",
   "execution_count": 9,
   "metadata": {},
   "outputs": [
    {
     "output_type": "stream",
     "name": "stdout",
     "text": [
      "(14389, 44)\n"
     ]
    },
    {
     "output_type": "execute_result",
     "data": {
      "text/plain": [
       "      id  amount_tsh date_recorded                  funder  gps_height  \\\n",
       "0  50785         0.0    2013-02-04                    dmdd        1996   \n",
       "1  51630         0.0    2013-02-04  government of tanzania        1569   \n",
       "2  17168         0.0    2013-02-01                 unknown        1567   \n",
       "\n",
       "  installer  longitude  latitude                 wpt_name     basin  ...  \\\n",
       "0      DMDD  35.290799 -4.059696  dinamu secondary school  internal  ...   \n",
       "1       DWE  36.656709 -3.309214                  kimnyak   pangani  ...   \n",
       "2   unknown  34.767863 -5.004344           puma secondary  internal  ...   \n",
       "\n",
       "                 source           source_type  source_class  \\\n",
       "0  rainwater harvesting  rainwater harvesting       surface   \n",
       "1                spring                spring   groundwater   \n",
       "2  rainwater harvesting  rainwater harvesting       surface   \n",
       "\n",
       "      waterpoint_type waterpoint_type_group recorded_year  waterpoint_age  \\\n",
       "0               other                 other          2013               1   \n",
       "1  communal standpipe    communal standpipe          2013              13   \n",
       "2               other                 other          2013               3   \n",
       "\n",
       "   region_code_and_name recorded_good_quality recorded_good_quantity  \n",
       "0            manyara_21                  True                  False  \n",
       "1              arusha_2                  True                  False  \n",
       "2            singida_13                  True                  False  \n",
       "\n",
       "[3 rows x 44 columns]"
      ],
      "text/html": "<div>\n<style scoped>\n    .dataframe tbody tr th:only-of-type {\n        vertical-align: middle;\n    }\n\n    .dataframe tbody tr th {\n        vertical-align: top;\n    }\n\n    .dataframe thead th {\n        text-align: right;\n    }\n</style>\n<table border=\"1\" class=\"dataframe\">\n  <thead>\n    <tr style=\"text-align: right;\">\n      <th></th>\n      <th>id</th>\n      <th>amount_tsh</th>\n      <th>date_recorded</th>\n      <th>funder</th>\n      <th>gps_height</th>\n      <th>installer</th>\n      <th>longitude</th>\n      <th>latitude</th>\n      <th>wpt_name</th>\n      <th>basin</th>\n      <th>...</th>\n      <th>source</th>\n      <th>source_type</th>\n      <th>source_class</th>\n      <th>waterpoint_type</th>\n      <th>waterpoint_type_group</th>\n      <th>recorded_year</th>\n      <th>waterpoint_age</th>\n      <th>region_code_and_name</th>\n      <th>recorded_good_quality</th>\n      <th>recorded_good_quantity</th>\n    </tr>\n  </thead>\n  <tbody>\n    <tr>\n      <th>0</th>\n      <td>50785</td>\n      <td>0.0</td>\n      <td>2013-02-04</td>\n      <td>dmdd</td>\n      <td>1996</td>\n      <td>DMDD</td>\n      <td>35.290799</td>\n      <td>-4.059696</td>\n      <td>dinamu secondary school</td>\n      <td>internal</td>\n      <td>...</td>\n      <td>rainwater harvesting</td>\n      <td>rainwater harvesting</td>\n      <td>surface</td>\n      <td>other</td>\n      <td>other</td>\n      <td>2013</td>\n      <td>1</td>\n      <td>manyara_21</td>\n      <td>True</td>\n      <td>False</td>\n    </tr>\n    <tr>\n      <th>1</th>\n      <td>51630</td>\n      <td>0.0</td>\n      <td>2013-02-04</td>\n      <td>government of tanzania</td>\n      <td>1569</td>\n      <td>DWE</td>\n      <td>36.656709</td>\n      <td>-3.309214</td>\n      <td>kimnyak</td>\n      <td>pangani</td>\n      <td>...</td>\n      <td>spring</td>\n      <td>spring</td>\n      <td>groundwater</td>\n      <td>communal standpipe</td>\n      <td>communal standpipe</td>\n      <td>2013</td>\n      <td>13</td>\n      <td>arusha_2</td>\n      <td>True</td>\n      <td>False</td>\n    </tr>\n    <tr>\n      <th>2</th>\n      <td>17168</td>\n      <td>0.0</td>\n      <td>2013-02-01</td>\n      <td>unknown</td>\n      <td>1567</td>\n      <td>unknown</td>\n      <td>34.767863</td>\n      <td>-5.004344</td>\n      <td>puma secondary</td>\n      <td>internal</td>\n      <td>...</td>\n      <td>rainwater harvesting</td>\n      <td>rainwater harvesting</td>\n      <td>surface</td>\n      <td>other</td>\n      <td>other</td>\n      <td>2013</td>\n      <td>3</td>\n      <td>singida_13</td>\n      <td>True</td>\n      <td>False</td>\n    </tr>\n  </tbody>\n</table>\n<p>3 rows × 44 columns</p>\n</div>"
     },
     "metadata": {},
     "execution_count": 9
    }
   ],
   "source": [
    "# read in the processed test data\n",
    "test_df = pd.read_csv('../data/test_processed.csv')\n",
    "print(test_df.shape)\n",
    "test_df.head(3)"
   ]
  },
  {
   "cell_type": "code",
   "execution_count": 26,
   "metadata": {},
   "outputs": [
    {
     "output_type": "execute_result",
     "data": {
      "text/plain": [
       "                 id     amount_tsh    gps_height     longitude      latitude  \\\n",
       "count  14389.000000   14389.000000  14389.000000  14389.000000  14389.000000   \n",
       "mean   37164.400028     333.169831    676.137466     35.142693     -5.865061   \n",
       "std    21346.541880    2550.202368    692.068892      2.615227      2.804691   \n",
       "min       10.000000       0.000000    -57.000000     29.612776    -11.564592   \n",
       "25%    18733.000000       0.000000      0.000000     33.241978     -8.569850   \n",
       "50%    37376.000000       0.000000    388.000000     35.010827     -5.179386   \n",
       "75%    55768.000000      30.000000   1320.000000     37.259504     -3.366809   \n",
       "max    74249.000000  200000.000000   2777.000000     40.325016     -0.998752   \n",
       "\n",
       "        region_code  district_code    population  construction_year  \\\n",
       "count  14389.000000   14389.000000  14389.000000       14389.000000   \n",
       "mean      15.058864       5.729585    190.012927        1997.065258   \n",
       "std       17.455351       9.802841    475.785043          10.050068   \n",
       "min        1.000000       1.000000      0.000000        1960.000000   \n",
       "25%        5.000000       2.000000      0.000000        1995.000000   \n",
       "50%       12.000000       3.000000     30.000000        1997.000000   \n",
       "75%       17.000000       5.000000    230.000000        2005.000000   \n",
       "max       99.000000      80.000000  11469.000000        2013.000000   \n",
       "\n",
       "       recorded_year  waterpoint_age  \n",
       "count   14389.000000    14389.000000  \n",
       "mean     2011.897978       14.833623  \n",
       "std         0.968730       10.088404  \n",
       "min      2001.000000        0.000000  \n",
       "25%      2011.000000        7.000000  \n",
       "50%      2012.000000       14.000000  \n",
       "75%      2013.000000       16.000000  \n",
       "max      2013.000000       53.000000  "
      ],
      "text/html": "<div>\n<style scoped>\n    .dataframe tbody tr th:only-of-type {\n        vertical-align: middle;\n    }\n\n    .dataframe tbody tr th {\n        vertical-align: top;\n    }\n\n    .dataframe thead th {\n        text-align: right;\n    }\n</style>\n<table border=\"1\" class=\"dataframe\">\n  <thead>\n    <tr style=\"text-align: right;\">\n      <th></th>\n      <th>id</th>\n      <th>amount_tsh</th>\n      <th>gps_height</th>\n      <th>longitude</th>\n      <th>latitude</th>\n      <th>region_code</th>\n      <th>district_code</th>\n      <th>population</th>\n      <th>construction_year</th>\n      <th>recorded_year</th>\n      <th>waterpoint_age</th>\n    </tr>\n  </thead>\n  <tbody>\n    <tr>\n      <th>count</th>\n      <td>14389.000000</td>\n      <td>14389.000000</td>\n      <td>14389.000000</td>\n      <td>14389.000000</td>\n      <td>14389.000000</td>\n      <td>14389.000000</td>\n      <td>14389.000000</td>\n      <td>14389.000000</td>\n      <td>14389.000000</td>\n      <td>14389.000000</td>\n      <td>14389.000000</td>\n    </tr>\n    <tr>\n      <th>mean</th>\n      <td>37164.400028</td>\n      <td>333.169831</td>\n      <td>676.137466</td>\n      <td>35.142693</td>\n      <td>-5.865061</td>\n      <td>15.058864</td>\n      <td>5.729585</td>\n      <td>190.012927</td>\n      <td>1997.065258</td>\n      <td>2011.897978</td>\n      <td>14.833623</td>\n    </tr>\n    <tr>\n      <th>std</th>\n      <td>21346.541880</td>\n      <td>2550.202368</td>\n      <td>692.068892</td>\n      <td>2.615227</td>\n      <td>2.804691</td>\n      <td>17.455351</td>\n      <td>9.802841</td>\n      <td>475.785043</td>\n      <td>10.050068</td>\n      <td>0.968730</td>\n      <td>10.088404</td>\n    </tr>\n    <tr>\n      <th>min</th>\n      <td>10.000000</td>\n      <td>0.000000</td>\n      <td>-57.000000</td>\n      <td>29.612776</td>\n      <td>-11.564592</td>\n      <td>1.000000</td>\n      <td>1.000000</td>\n      <td>0.000000</td>\n      <td>1960.000000</td>\n      <td>2001.000000</td>\n      <td>0.000000</td>\n    </tr>\n    <tr>\n      <th>25%</th>\n      <td>18733.000000</td>\n      <td>0.000000</td>\n      <td>0.000000</td>\n      <td>33.241978</td>\n      <td>-8.569850</td>\n      <td>5.000000</td>\n      <td>2.000000</td>\n      <td>0.000000</td>\n      <td>1995.000000</td>\n      <td>2011.000000</td>\n      <td>7.000000</td>\n    </tr>\n    <tr>\n      <th>50%</th>\n      <td>37376.000000</td>\n      <td>0.000000</td>\n      <td>388.000000</td>\n      <td>35.010827</td>\n      <td>-5.179386</td>\n      <td>12.000000</td>\n      <td>3.000000</td>\n      <td>30.000000</td>\n      <td>1997.000000</td>\n      <td>2012.000000</td>\n      <td>14.000000</td>\n    </tr>\n    <tr>\n      <th>75%</th>\n      <td>55768.000000</td>\n      <td>30.000000</td>\n      <td>1320.000000</td>\n      <td>37.259504</td>\n      <td>-3.366809</td>\n      <td>17.000000</td>\n      <td>5.000000</td>\n      <td>230.000000</td>\n      <td>2005.000000</td>\n      <td>2013.000000</td>\n      <td>16.000000</td>\n    </tr>\n    <tr>\n      <th>max</th>\n      <td>74249.000000</td>\n      <td>200000.000000</td>\n      <td>2777.000000</td>\n      <td>40.325016</td>\n      <td>-0.998752</td>\n      <td>99.000000</td>\n      <td>80.000000</td>\n      <td>11469.000000</td>\n      <td>2013.000000</td>\n      <td>2013.000000</td>\n      <td>53.000000</td>\n    </tr>\n  </tbody>\n</table>\n</div>"
     },
     "metadata": {},
     "execution_count": 26
    }
   ],
   "source": [
    "test_df.describe()"
   ]
  },
  {
   "cell_type": "markdown",
   "metadata": {},
   "source": [
    "### NOTES:\n",
    "* consider dropping the id cols in Train and Test as these identifiers don't really have predictive power"
   ]
  },
  {
   "cell_type": "markdown",
   "metadata": {},
   "source": [
    "#### Encode categorical data as numbers???   Use  sklearn's preprocessing module called OneHotEncoder."
   ]
  },
  {
   "cell_type": "code",
   "execution_count": null,
   "metadata": {},
   "outputs": [],
   "source": []
  },
  {
   "cell_type": "code",
   "execution_count": null,
   "metadata": {},
   "outputs": [],
   "source": []
  },
  {
   "cell_type": "code",
   "execution_count": null,
   "metadata": {},
   "outputs": [],
   "source": []
  },
  {
   "cell_type": "code",
   "execution_count": null,
   "metadata": {},
   "outputs": [],
   "source": []
  },
  {
   "cell_type": "markdown",
   "metadata": {},
   "source": [
    "### Confusion Matrix goes here"
   ]
  },
  {
   "cell_type": "code",
   "execution_count": 29,
   "metadata": {},
   "outputs": [],
   "source": [
    "\n",
    "# Alternative (AND NICER LOOKING) confusion matrix (may only work as coded for numeric targets...verify this)\n",
    "##from sklearn.metrics import plot_confusion_matrix\n",
    "\n",
    "#plot_confusion_matrix(classifier, X, y, values_format='.3g')\n",
    "#plt.show()\n",
    "\n"
   ]
  },
  {
   "cell_type": "code",
   "execution_count": null,
   "metadata": {},
   "outputs": [],
   "source": []
  },
  {
   "cell_type": "markdown",
   "metadata": {},
   "source": [
    "### Consider showing most important features here"
   ]
  },
  {
   "cell_type": "code",
   "execution_count": 30,
   "metadata": {},
   "outputs": [],
   "source": [
    "def plot_feature_importances(model):\n",
    "    n_features = data_train.shape[1]\n",
    "    plt.figure(figsize=(8,8))\n",
    "    plt.barh(range(n_features), model.feature_importances_, align='center') \n",
    "    plt.yticks(np.arange(n_features), data_train.columns.values) \n",
    "    plt.xlabel('Feature importance')\n",
    "    plt.ylabel('Feature')\n",
    "\n",
    "#plot_feature_importances(tree_clf)"
   ]
  },
  {
   "cell_type": "code",
   "execution_count": null,
   "metadata": {},
   "outputs": [],
   "source": []
  }
 ]
}